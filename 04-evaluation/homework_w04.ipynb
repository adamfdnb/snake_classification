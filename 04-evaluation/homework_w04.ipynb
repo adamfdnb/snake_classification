{
  "nbformat": 4,
  "nbformat_minor": 0,
  "metadata": {
    "colab": {
      "provenance": [],
      "authorship_tag": "ABX9TyMRd5a7VcnIrstVsxFGUNT+"
    },
    "kernelspec": {
      "name": "python3",
      "display_name": "Python 3"
    },
    "language_info": {
      "name": "python"
    },
    "widgets": {
      "application/vnd.jupyter.widget-state+json": {
        "098bb661c0c641ffa50466e9b75dfd65": {
          "model_module": "@jupyter-widgets/controls",
          "model_name": "HBoxModel",
          "model_module_version": "1.5.0",
          "state": {
            "_dom_classes": [],
            "_model_module": "@jupyter-widgets/controls",
            "_model_module_version": "1.5.0",
            "_model_name": "HBoxModel",
            "_view_count": null,
            "_view_module": "@jupyter-widgets/controls",
            "_view_module_version": "1.5.0",
            "_view_name": "HBoxView",
            "box_style": "",
            "children": [
              "IPY_MODEL_e9b545e85b7147918479bd0ae3ccb696",
              "IPY_MODEL_3642cbf69e684ef2849cc156afd612e0",
              "IPY_MODEL_f6d42f8ca4d7427dbb1e83f2b52c65dd"
            ],
            "layout": "IPY_MODEL_1f3cc348e51f481e886d52383c0c10d8"
          }
        },
        "e9b545e85b7147918479bd0ae3ccb696": {
          "model_module": "@jupyter-widgets/controls",
          "model_name": "HTMLModel",
          "model_module_version": "1.5.0",
          "state": {
            "_dom_classes": [],
            "_model_module": "@jupyter-widgets/controls",
            "_model_module_version": "1.5.0",
            "_model_name": "HTMLModel",
            "_view_count": null,
            "_view_module": "@jupyter-widgets/controls",
            "_view_module_version": "1.5.0",
            "_view_name": "HTMLView",
            "description": "",
            "description_tooltip": null,
            "layout": "IPY_MODEL_b9a30f111d234fc3be8b9b0aa3a19fe9",
            "placeholder": "​",
            "style": "IPY_MODEL_23b0b8dccb86415c8a83f26ddab273cc",
            "value": "100%"
          }
        },
        "3642cbf69e684ef2849cc156afd612e0": {
          "model_module": "@jupyter-widgets/controls",
          "model_name": "FloatProgressModel",
          "model_module_version": "1.5.0",
          "state": {
            "_dom_classes": [],
            "_model_module": "@jupyter-widgets/controls",
            "_model_module_version": "1.5.0",
            "_model_name": "FloatProgressModel",
            "_view_count": null,
            "_view_module": "@jupyter-widgets/controls",
            "_view_module_version": "1.5.0",
            "_view_name": "ProgressView",
            "bar_style": "success",
            "description": "",
            "description_tooltip": null,
            "layout": "IPY_MODEL_847750bc87a943609d397ab9c7830795",
            "max": 4,
            "min": 0,
            "orientation": "horizontal",
            "style": "IPY_MODEL_2bfbe1f45dcc4487bfcfb76ed7e42475",
            "value": 4
          }
        },
        "f6d42f8ca4d7427dbb1e83f2b52c65dd": {
          "model_module": "@jupyter-widgets/controls",
          "model_name": "HTMLModel",
          "model_module_version": "1.5.0",
          "state": {
            "_dom_classes": [],
            "_model_module": "@jupyter-widgets/controls",
            "_model_module_version": "1.5.0",
            "_model_name": "HTMLModel",
            "_view_count": null,
            "_view_module": "@jupyter-widgets/controls",
            "_view_module_version": "1.5.0",
            "_view_name": "HTMLView",
            "description": "",
            "description_tooltip": null,
            "layout": "IPY_MODEL_a6b46029fc484bd78246be06095b990a",
            "placeholder": "​",
            "style": "IPY_MODEL_86367dcb74a84b3a90719efa869791e8",
            "value": " 4/4 [00:26&lt;00:00,  6.84s/it]"
          }
        },
        "1f3cc348e51f481e886d52383c0c10d8": {
          "model_module": "@jupyter-widgets/base",
          "model_name": "LayoutModel",
          "model_module_version": "1.2.0",
          "state": {
            "_model_module": "@jupyter-widgets/base",
            "_model_module_version": "1.2.0",
            "_model_name": "LayoutModel",
            "_view_count": null,
            "_view_module": "@jupyter-widgets/base",
            "_view_module_version": "1.2.0",
            "_view_name": "LayoutView",
            "align_content": null,
            "align_items": null,
            "align_self": null,
            "border": null,
            "bottom": null,
            "display": null,
            "flex": null,
            "flex_flow": null,
            "grid_area": null,
            "grid_auto_columns": null,
            "grid_auto_flow": null,
            "grid_auto_rows": null,
            "grid_column": null,
            "grid_gap": null,
            "grid_row": null,
            "grid_template_areas": null,
            "grid_template_columns": null,
            "grid_template_rows": null,
            "height": null,
            "justify_content": null,
            "justify_items": null,
            "left": null,
            "margin": null,
            "max_height": null,
            "max_width": null,
            "min_height": null,
            "min_width": null,
            "object_fit": null,
            "object_position": null,
            "order": null,
            "overflow": null,
            "overflow_x": null,
            "overflow_y": null,
            "padding": null,
            "right": null,
            "top": null,
            "visibility": null,
            "width": null
          }
        },
        "b9a30f111d234fc3be8b9b0aa3a19fe9": {
          "model_module": "@jupyter-widgets/base",
          "model_name": "LayoutModel",
          "model_module_version": "1.2.0",
          "state": {
            "_model_module": "@jupyter-widgets/base",
            "_model_module_version": "1.2.0",
            "_model_name": "LayoutModel",
            "_view_count": null,
            "_view_module": "@jupyter-widgets/base",
            "_view_module_version": "1.2.0",
            "_view_name": "LayoutView",
            "align_content": null,
            "align_items": null,
            "align_self": null,
            "border": null,
            "bottom": null,
            "display": null,
            "flex": null,
            "flex_flow": null,
            "grid_area": null,
            "grid_auto_columns": null,
            "grid_auto_flow": null,
            "grid_auto_rows": null,
            "grid_column": null,
            "grid_gap": null,
            "grid_row": null,
            "grid_template_areas": null,
            "grid_template_columns": null,
            "grid_template_rows": null,
            "height": null,
            "justify_content": null,
            "justify_items": null,
            "left": null,
            "margin": null,
            "max_height": null,
            "max_width": null,
            "min_height": null,
            "min_width": null,
            "object_fit": null,
            "object_position": null,
            "order": null,
            "overflow": null,
            "overflow_x": null,
            "overflow_y": null,
            "padding": null,
            "right": null,
            "top": null,
            "visibility": null,
            "width": null
          }
        },
        "23b0b8dccb86415c8a83f26ddab273cc": {
          "model_module": "@jupyter-widgets/controls",
          "model_name": "DescriptionStyleModel",
          "model_module_version": "1.5.0",
          "state": {
            "_model_module": "@jupyter-widgets/controls",
            "_model_module_version": "1.5.0",
            "_model_name": "DescriptionStyleModel",
            "_view_count": null,
            "_view_module": "@jupyter-widgets/base",
            "_view_module_version": "1.2.0",
            "_view_name": "StyleView",
            "description_width": ""
          }
        },
        "847750bc87a943609d397ab9c7830795": {
          "model_module": "@jupyter-widgets/base",
          "model_name": "LayoutModel",
          "model_module_version": "1.2.0",
          "state": {
            "_model_module": "@jupyter-widgets/base",
            "_model_module_version": "1.2.0",
            "_model_name": "LayoutModel",
            "_view_count": null,
            "_view_module": "@jupyter-widgets/base",
            "_view_module_version": "1.2.0",
            "_view_name": "LayoutView",
            "align_content": null,
            "align_items": null,
            "align_self": null,
            "border": null,
            "bottom": null,
            "display": null,
            "flex": null,
            "flex_flow": null,
            "grid_area": null,
            "grid_auto_columns": null,
            "grid_auto_flow": null,
            "grid_auto_rows": null,
            "grid_column": null,
            "grid_gap": null,
            "grid_row": null,
            "grid_template_areas": null,
            "grid_template_columns": null,
            "grid_template_rows": null,
            "height": null,
            "justify_content": null,
            "justify_items": null,
            "left": null,
            "margin": null,
            "max_height": null,
            "max_width": null,
            "min_height": null,
            "min_width": null,
            "object_fit": null,
            "object_position": null,
            "order": null,
            "overflow": null,
            "overflow_x": null,
            "overflow_y": null,
            "padding": null,
            "right": null,
            "top": null,
            "visibility": null,
            "width": null
          }
        },
        "2bfbe1f45dcc4487bfcfb76ed7e42475": {
          "model_module": "@jupyter-widgets/controls",
          "model_name": "ProgressStyleModel",
          "model_module_version": "1.5.0",
          "state": {
            "_model_module": "@jupyter-widgets/controls",
            "_model_module_version": "1.5.0",
            "_model_name": "ProgressStyleModel",
            "_view_count": null,
            "_view_module": "@jupyter-widgets/base",
            "_view_module_version": "1.2.0",
            "_view_name": "StyleView",
            "bar_color": null,
            "description_width": ""
          }
        },
        "a6b46029fc484bd78246be06095b990a": {
          "model_module": "@jupyter-widgets/base",
          "model_name": "LayoutModel",
          "model_module_version": "1.2.0",
          "state": {
            "_model_module": "@jupyter-widgets/base",
            "_model_module_version": "1.2.0",
            "_model_name": "LayoutModel",
            "_view_count": null,
            "_view_module": "@jupyter-widgets/base",
            "_view_module_version": "1.2.0",
            "_view_name": "LayoutView",
            "align_content": null,
            "align_items": null,
            "align_self": null,
            "border": null,
            "bottom": null,
            "display": null,
            "flex": null,
            "flex_flow": null,
            "grid_area": null,
            "grid_auto_columns": null,
            "grid_auto_flow": null,
            "grid_auto_rows": null,
            "grid_column": null,
            "grid_gap": null,
            "grid_row": null,
            "grid_template_areas": null,
            "grid_template_columns": null,
            "grid_template_rows": null,
            "height": null,
            "justify_content": null,
            "justify_items": null,
            "left": null,
            "margin": null,
            "max_height": null,
            "max_width": null,
            "min_height": null,
            "min_width": null,
            "object_fit": null,
            "object_position": null,
            "order": null,
            "overflow": null,
            "overflow_x": null,
            "overflow_y": null,
            "padding": null,
            "right": null,
            "top": null,
            "visibility": null,
            "width": null
          }
        },
        "86367dcb74a84b3a90719efa869791e8": {
          "model_module": "@jupyter-widgets/controls",
          "model_name": "DescriptionStyleModel",
          "model_module_version": "1.5.0",
          "state": {
            "_model_module": "@jupyter-widgets/controls",
            "_model_module_version": "1.5.0",
            "_model_name": "DescriptionStyleModel",
            "_view_count": null,
            "_view_module": "@jupyter-widgets/base",
            "_view_module_version": "1.2.0",
            "_view_name": "StyleView",
            "description_width": ""
          }
        }
      }
    }
  },
  "cells": [
    {
      "cell_type": "markdown",
      "source": [
        "## ***Environmental preparation***"
      ],
      "metadata": {
        "id": "n34dCSilS-dc"
      }
    },
    {
      "cell_type": "code",
      "execution_count": 1,
      "metadata": {
        "id": "u1HsMoMeSZ7n"
      },
      "outputs": [],
      "source": [
        "# Importing libraries\n",
        "import numpy as np\n",
        "import pandas as pd\n",
        "import seaborn as sns\n",
        "import matplotlib.pyplot as plt\n",
        "\n",
        "import warnings\n",
        "warnings.filterwarnings(\"ignore\")"
      ]
    },
    {
      "cell_type": "markdown",
      "source": [
        "## ***Dataset preparation***"
      ],
      "metadata": {
        "id": "ET3AtNiDZw60"
      }
    },
    {
      "cell_type": "code",
      "source": [
        "# Importing a dataset and creating a DataFrame\n",
        "data = pd.read_csv(\"https://raw.githubusercontent.com/alexeygrigorev/mlbookcamp-code/master/chapter-02-car-price/data.csv\")\n",
        "df_init = data.copy()"
      ],
      "metadata": {
        "id": "HKZnybUJZxPB"
      },
      "execution_count": 2,
      "outputs": []
    },
    {
      "cell_type": "code",
      "source": [
        "# Display List of columns\n",
        "list(df_init.dtypes.index)"
      ],
      "metadata": {
        "colab": {
          "base_uri": "https://localhost:8080/"
        },
        "id": "9M1SqDZ8ag5R",
        "outputId": "bae7ed23-5ed5-40e4-f30d-4558d7c6751f"
      },
      "execution_count": 3,
      "outputs": [
        {
          "output_type": "execute_result",
          "data": {
            "text/plain": [
              "['Make',\n",
              " 'Model',\n",
              " 'Year',\n",
              " 'Engine Fuel Type',\n",
              " 'Engine HP',\n",
              " 'Engine Cylinders',\n",
              " 'Transmission Type',\n",
              " 'Driven_Wheels',\n",
              " 'Number of Doors',\n",
              " 'Market Category',\n",
              " 'Vehicle Size',\n",
              " 'Vehicle Style',\n",
              " 'highway MPG',\n",
              " 'city mpg',\n",
              " 'Popularity',\n",
              " 'MSRP']"
            ]
          },
          "metadata": {},
          "execution_count": 3
        }
      ]
    },
    {
      "cell_type": "code",
      "source": [
        "df = df_init[\n",
        "    [\n",
        "        'Make',\n",
        "        'Model',\n",
        "        'Year',\n",
        "        'Engine HP',\n",
        "        'Engine Cylinders',\n",
        "        'Transmission Type',\n",
        "        'Vehicle Size',\n",
        "        'highway MPG',\n",
        "        'city mpg',\n",
        "        'MSRP'\n",
        "    ]\n",
        "]"
      ],
      "metadata": {
        "id": "Mmlf6LMiaubp"
      },
      "execution_count": 4,
      "outputs": []
    },
    {
      "cell_type": "code",
      "source": [
        "# Converting string columns to lowercase and replacing spaces with underscores\n",
        "df.columns = df.columns.str.replace(' ', '_').str.lower()\n",
        "string_columns = list(df.dtypes[df.dtypes == \"object\"].index)\n",
        "\n",
        "for col in string_columns:\n",
        "    df[col] = df[col].str.lower().str.replace(\" \", \"_\")"
      ],
      "metadata": {
        "id": "vu7LTyZMbfDt"
      },
      "execution_count": 5,
      "outputs": []
    },
    {
      "cell_type": "code",
      "source": [
        "# Checking for missing values\n",
        "df.isnull().sum()"
      ],
      "metadata": {
        "colab": {
          "base_uri": "https://localhost:8080/"
        },
        "id": "zcXCu0I4ubIz",
        "outputId": "87f12d4b-369b-4773-8ce5-1670b090bf48"
      },
      "execution_count": 6,
      "outputs": [
        {
          "output_type": "execute_result",
          "data": {
            "text/plain": [
              "make                  0\n",
              "model                 0\n",
              "year                  0\n",
              "engine_hp            69\n",
              "engine_cylinders     30\n",
              "transmission_type     0\n",
              "vehicle_size          0\n",
              "highway_mpg           0\n",
              "city_mpg              0\n",
              "msrp                  0\n",
              "dtype: int64"
            ]
          },
          "metadata": {},
          "execution_count": 6
        }
      ]
    },
    {
      "cell_type": "code",
      "source": [
        "# Filling missing values with 0\n",
        "df = df.fillna(0)"
      ],
      "metadata": {
        "id": "BWc_q_rCubBM"
      },
      "execution_count": 7,
      "outputs": []
    },
    {
      "cell_type": "code",
      "source": [
        "# Checking after filling them with 0\n",
        "display(df.isnull().sum())"
      ],
      "metadata": {
        "colab": {
          "base_uri": "https://localhost:8080/",
          "height": 214
        },
        "id": "0t683gc6b0ok",
        "outputId": "3aca0d60-598d-44f5-f165-d081feb2b0d9"
      },
      "execution_count": 8,
      "outputs": [
        {
          "output_type": "display_data",
          "data": {
            "text/plain": [
              "make                 0\n",
              "model                0\n",
              "year                 0\n",
              "engine_hp            0\n",
              "engine_cylinders     0\n",
              "transmission_type    0\n",
              "vehicle_size         0\n",
              "highway_mpg          0\n",
              "city_mpg             0\n",
              "msrp                 0\n",
              "dtype: int64"
            ]
          },
          "metadata": {}
        }
      ]
    },
    {
      "cell_type": "code",
      "source": [
        "# Calculating the mean price\n",
        "average_price = df['msrp'].mean()\n",
        "\n",
        "# Creating a binary 'above_average' column based on a condition\n",
        "df['above_average'] = (df['msrp'] > average_price).astype(int)\n",
        "del df['msrp']"
      ],
      "metadata": {
        "id": "76N3eTnUcL6i"
      },
      "execution_count": 9,
      "outputs": []
    },
    {
      "cell_type": "code",
      "source": [
        "# Splitting the data into train, validation, and test sets\n",
        "# Importing library\n",
        "from sklearn.model_selection import train_test_split"
      ],
      "metadata": {
        "id": "AEJa3rUweJt0"
      },
      "execution_count": 10,
      "outputs": []
    },
    {
      "cell_type": "code",
      "source": [
        "# Splitting the DataFrame 'df' into three subsets: training, validation, and testing.\n",
        "df_full_train, df_test = train_test_split(df, test_size=0.2, random_state=1)\n",
        "df_train, df_val = train_test_split(df_full_train, test_size=0.25, random_state=1)\n",
        "\n",
        "# Displaying the sizes of different data sets\n",
        "n = len(df)\n",
        "n_full_train = len(df_full_train)\n",
        "n_train = len(df_train)\n",
        "n_val = len(df_val)\n",
        "n_test = len(df_test)\n",
        "\n",
        "print(f\"n_dataset = \\t\\t{n}\")\n",
        "# print(f\"n_full_train = \\t\\t{n_full_train}\")\n",
        "print(f\"n_train = \\t\\t{n_train}\\t{(n_train / n) * 100:.2f}%\")\n",
        "print(f\"n_val = \\t\\t{n_val}\\t{(n_val / n) * 100:.2f}%\")\n",
        "print(f\"n_test = \\t\\t{n_test}\\t{(n_test / n) * 100:.2f}%\")\n",
        "print(f\"check of sum:\\n(train + val + test) = \\t{n_train + n_val + n_test}\")"
      ],
      "metadata": {
        "colab": {
          "base_uri": "https://localhost:8080/"
        },
        "id": "OIepOxuReMuL",
        "outputId": "3a140c5e-7c4b-4bca-e93b-0713af8866f5"
      },
      "execution_count": 11,
      "outputs": [
        {
          "output_type": "stream",
          "name": "stdout",
          "text": [
            "n_dataset = \t\t11914\n",
            "n_train = \t\t7148\t60.00%\n",
            "n_val = \t\t2383\t20.00%\n",
            "n_test = \t\t2383\t20.00%\n",
            "check of sum:\n",
            "(train + val + test) = \t11914\n"
          ]
        }
      ]
    },
    {
      "cell_type": "code",
      "source": [
        "# Reset the indexes for df_train, df_val, and df_test\n",
        "df_train = df_train.reset_index(drop=True)\n",
        "df_val = df_val.reset_index(drop=True)\n",
        "df_test = df_test.reset_index(drop=True)"
      ],
      "metadata": {
        "id": "kepNVR2HhB-6"
      },
      "execution_count": 12,
      "outputs": []
    },
    {
      "cell_type": "code",
      "source": [
        "# Creating target variables for the training, validation, and test datasets.\n",
        "# These variables represent the 'above_average' column values from their respective datasets.\n",
        "y_train = df_train.above_average.values\n",
        "y_val = df_val.above_average.values\n",
        "y_test = df_test.above_average.values"
      ],
      "metadata": {
        "id": "o4W4_zb-hQg-"
      },
      "execution_count": 13,
      "outputs": []
    },
    {
      "cell_type": "code",
      "source": [
        "# Removing the 'above_average' column from the training, validation, and test datasets.\n",
        "# This column is being dropped as it is the target variable for binary classification.\n",
        "df_train = df_train.drop('above_average', axis=1)\n",
        "df_val = df_val.drop('above_average', axis=1)\n",
        "df_test = df_test.drop('above_average', axis=1)"
      ],
      "metadata": {
        "id": "hnq7KiKzh5KQ"
      },
      "execution_count": 14,
      "outputs": []
    },
    {
      "cell_type": "markdown",
      "source": [
        "## ***Question 1***"
      ],
      "metadata": {
        "id": "P8HePdkvcSSC"
      }
    },
    {
      "cell_type": "code",
      "source": [
        "df.info()"
      ],
      "metadata": {
        "colab": {
          "base_uri": "https://localhost:8080/"
        },
        "id": "AAZ9LH3MxZ2u",
        "outputId": "5f232207-ee56-4967-ff73-87a40511665e"
      },
      "execution_count": 15,
      "outputs": [
        {
          "output_type": "stream",
          "name": "stdout",
          "text": [
            "<class 'pandas.core.frame.DataFrame'>\n",
            "RangeIndex: 11914 entries, 0 to 11913\n",
            "Data columns (total 10 columns):\n",
            " #   Column             Non-Null Count  Dtype  \n",
            "---  ------             --------------  -----  \n",
            " 0   make               11914 non-null  object \n",
            " 1   model              11914 non-null  object \n",
            " 2   year               11914 non-null  int64  \n",
            " 3   engine_hp          11914 non-null  float64\n",
            " 4   engine_cylinders   11914 non-null  float64\n",
            " 5   transmission_type  11914 non-null  object \n",
            " 6   vehicle_size       11914 non-null  object \n",
            " 7   highway_mpg        11914 non-null  int64  \n",
            " 8   city_mpg           11914 non-null  int64  \n",
            " 9   above_average      11914 non-null  int64  \n",
            "dtypes: float64(2), int64(4), object(4)\n",
            "memory usage: 930.9+ KB\n"
          ]
        }
      ]
    },
    {
      "cell_type": "code",
      "source": [
        "# Create a list of column names containing numerical data types (int64 and float64)\n",
        "# from the DataFrame.\n",
        "num = list(df_train.select_dtypes(include=['int64', 'float64']).columns)\n",
        "print(num)\n",
        "# Creating a list of column names ('cat') where the data type is 'object'\n",
        "\n",
        "cat = list(df_train.select_dtypes(include=['object']).columns)\n",
        "# cat = list(df_train.dtypes[df_train.dtypes == 'object'].index)\n",
        "print(cat)"
      ],
      "metadata": {
        "colab": {
          "base_uri": "https://localhost:8080/"
        },
        "id": "FmDOhe3oioTz",
        "outputId": "b9dcbfb9-9c65-4934-deb9-48d82574e602"
      },
      "execution_count": 16,
      "outputs": [
        {
          "output_type": "stream",
          "name": "stdout",
          "text": [
            "['year', 'engine_hp', 'engine_cylinders', 'highway_mpg', 'city_mpg']\n",
            "['make', 'model', 'transmission_type', 'vehicle_size']\n"
          ]
        }
      ]
    },
    {
      "cell_type": "code",
      "source": [
        "# Import the roc_auc_score function from the scikit-learn metrics module\n",
        "from sklearn.metrics import roc_auc_score\n",
        "from sklearn.metrics import roc_curve"
      ],
      "metadata": {
        "id": "P9mmXTMdjYX2"
      },
      "execution_count": 17,
      "outputs": []
    },
    {
      "cell_type": "code",
      "source": [
        " # Calculate the ROC AUC score for the each numerical column\n",
        "for c in num:\n",
        "    auc = roc_auc_score(y_train, df_train[c])\n",
        "    if auc < 0.5:\n",
        "        auc = roc_auc_score(y_train, -df_train[c])\n",
        "    print(f'{c:>16s}, {auc:.3f}')"
      ],
      "metadata": {
        "colab": {
          "base_uri": "https://localhost:8080/"
        },
        "id": "WMmzFYANh08F",
        "outputId": "84aeea8c-0e74-45a7-a2dd-31f79ef52ef3"
      },
      "execution_count": 18,
      "outputs": [
        {
          "output_type": "stream",
          "name": "stdout",
          "text": [
            "            year, 0.688\n",
            "       engine_hp, 0.917\n",
            "engine_cylinders, 0.766\n",
            "     highway_mpg, 0.633\n",
            "        city_mpg, 0.673\n"
          ]
        }
      ]
    },
    {
      "cell_type": "code",
      "source": [
        "# Define the selected numerical columns\n",
        "selected_columns = ['engine_hp', 'engine_cylinders', 'highway_mpg', 'city_mpg']\n",
        "\n",
        "max_auc = -1\n",
        "best_variable = None\n",
        "\n",
        "# Calculate the ROC AUC score for selected numerical column\n",
        "for c in selected_columns:\n",
        "    auc = roc_auc_score(y_train, df_train[c])\n",
        "    if auc < 0.5:\n",
        "        auc = roc_auc_score(y_train, -df_train[c])\n",
        "    print(f'{c:>16s}, {auc:.3f}')\n",
        "\n",
        "    if auc > max_auc:\n",
        "        max_auc = auc\n",
        "        best_variable = c"
      ],
      "metadata": {
        "colab": {
          "base_uri": "https://localhost:8080/"
        },
        "id": "_94X5GIwomfx",
        "outputId": "fea261dc-6358-4c19-f963-09c9c22ab9d9"
      },
      "execution_count": 19,
      "outputs": [
        {
          "output_type": "stream",
          "name": "stdout",
          "text": [
            "       engine_hp, 0.917\n",
            "engine_cylinders, 0.766\n",
            "     highway_mpg, 0.633\n",
            "        city_mpg, 0.673\n"
          ]
        }
      ]
    },
    {
      "cell_type": "code",
      "source": [
        "# This code creates a figure for plotting and then generates two Receiver Operating Characteristic (ROC) curves\n",
        "# for the 'engine_hp' feature and its negation in the training data.\n",
        "\n",
        "plt.figure(figsize=(5, 5), dpi=100)\n",
        "\n",
        "# Calculate the ROC curve for the 'engine_hp' feature in the training data\n",
        "fpr, tpr, _ = roc_curve(y_train, df_train.engine_hp)\n",
        "plt.plot(fpr, tpr, label='+engine_hp',  color=\"green\", linestyle=\"dashed\", linewidth=0.5)\n",
        "\n",
        "# Calculate the ROC curve for the negation of 'engine_hp' feature in the training data\n",
        "fpr, tpr, _ = roc_curve(y_train, -df_train.engine_hp)\n",
        "plt.plot(fpr, tpr, label='-engine_hp',  color=\"red\", linestyle=\"dashed\", linewidth=0.5)\n",
        "\n",
        "# Plot the diagonal line representing random chance (no predictive power)\n",
        "plt.plot([0, 1], [0, 1], color=\"grey\", linestyle=\"dashed\", linewidth=0.5)\n",
        "\n",
        "plt.legend()\n",
        "plt.show()"
      ],
      "metadata": {
        "colab": {
          "base_uri": "https://localhost:8080/",
          "height": 445
        },
        "id": "15ccqwfxSm_x",
        "outputId": "21a42cc7-ba0c-45cc-b2f4-af5cc9bc250b"
      },
      "execution_count": 20,
      "outputs": [
        {
          "output_type": "display_data",
          "data": {
            "text/plain": [
              "<Figure size 500x500 with 1 Axes>"
            ],
            "image/png": "[encoded data removed]"
          },
          "metadata": {}
        }
      ]
    },
    {
      "cell_type": "code",
      "source": [
        "print(f\"\\nAnswer to question 1:\")\n",
        "print(f'The variable with the highest AUC is: {best_variable}, AUC: {max_auc:.3f}')"
      ],
      "metadata": {
        "colab": {
          "base_uri": "https://localhost:8080/"
        },
        "id": "JXKHDv1IpVTQ",
        "outputId": "ccc5fae4-ddd5-490b-c5dd-02055b4a0c42"
      },
      "execution_count": 21,
      "outputs": [
        {
          "output_type": "stream",
          "name": "stdout",
          "text": [
            "\n",
            "Answer to question 1:\n",
            "The variable with the highest AUC is: engine_hp, AUC: 0.917\n"
          ]
        }
      ]
    },
    {
      "cell_type": "markdown",
      "source": [
        "## ***Question 2***"
      ],
      "metadata": {
        "id": "P8rRSvRPqPmU"
      }
    },
    {
      "cell_type": "code",
      "source": [
        "# One-hot encoding categorical variables and training a logistic regression model\n",
        "# Importing libraries\n",
        "from sklearn.feature_extraction import DictVectorizer\n",
        "from sklearn.linear_model import LogisticRegression"
      ],
      "metadata": {
        "id": "J-D5DIxOtB82"
      },
      "execution_count": 22,
      "outputs": []
    },
    {
      "cell_type": "code",
      "source": [
        "# Converting data sets into dictionaries\n",
        "train_dict = df_train[num + cat].to_dict(orient=\"records\")\n",
        "val_dict = df_val[num + cat].to_dict(orient=\"records\")\n",
        "\n",
        "# One-hot encoding of categorical variables\n",
        "dv = DictVectorizer(sparse=False)\n",
        "\n",
        "# Preparing feature matrices\n",
        "X_train = dv.fit_transform(train_dict)\n",
        "X_val = dv.transform(val_dict)\n",
        "\n",
        "# Initializing and training the logistic regression model\n",
        "model = LogisticRegression(solver='liblinear', C=1.0, max_iter=1000)\n",
        "model.fit(X_train, y_train)\n",
        "\n",
        "# Making predictions on the validation dataset\n",
        "y_pred = model.predict_proba(X_val)[:, 1]\n",
        "\n",
        "# Calculating the ROC AUC score\n",
        "auc = roc_auc_score(y_val, y_pred)"
      ],
      "metadata": {
        "id": "GWHV-XGlvI87"
      },
      "execution_count": 23,
      "outputs": []
    },
    {
      "cell_type": "code",
      "source": [
        "print(f\"\\nAnswer to question 2:\")\n",
        "print(f\"AUC of this model on the validation dataset is: {auc:.3f}\")"
      ],
      "metadata": {
        "colab": {
          "base_uri": "https://localhost:8080/"
        },
        "id": "AxCpEdCsUHRZ",
        "outputId": "4e149285-6588-4004-ad63-1ec592440e95"
      },
      "execution_count": 24,
      "outputs": [
        {
          "output_type": "stream",
          "name": "stdout",
          "text": [
            "\n",
            "Answer to question 2:\n",
            "AUC of this model on the validation dataset is: 0.974\n"
          ]
        }
      ]
    },
    {
      "cell_type": "markdown",
      "source": [
        "## ***Question 3***"
      ],
      "metadata": {
        "id": "myDKeUaiUhAm"
      }
    },
    {
      "cell_type": "code",
      "source": [
        "# Define a function to calculate_precision_recall_curve\n",
        "def calculate_precision_recall_curve(y_pred, y_val):\n",
        "    # Generate a range of threshold values from 0 to 1 with 101 evenly spaced points\n",
        "    thresholds = np.linspace(0, 1, 101)\n",
        "    scores = []\n",
        "\n",
        "    # Iterate over each threshold value\n",
        "    for t in thresholds:\n",
        "        # Calculate True Positives (tp), False Positives (fp), True Negatives (tn), and False Negatives (fn)\n",
        "        positive_predictions = y_pred >= t\n",
        "        negative_predictions = y_pred < t\n",
        "\n",
        "        positive_actual = y_val == 1\n",
        "        negative_actual = y_val == 0\n",
        "\n",
        "        tp = (positive_predictions & positive_actual).sum()\n",
        "        tn = (negative_predictions & negative_actual).sum()\n",
        "\n",
        "        fp = (positive_predictions & negative_actual).sum()\n",
        "        fn = (negative_predictions & positive_actual).sum()\n",
        "\n",
        "        # Calculate precision (p) and recall (r)\n",
        "        precision = tp / (tp + fp)\n",
        "        recall = tp / (tp + fn)\n",
        "\n",
        "        # Store the computed scores in a tuple\n",
        "        score = (t, tp, fp, tn, fn, recall, precision)\n",
        "        scores.append(score)\n",
        "\n",
        "    # Create a DataFrame from the computed scores\n",
        "    columns = ['t', 'tp', 'fp', 'tn', 'fn', 'r', 'p']\n",
        "    df_scores = pd.DataFrame(scores, columns=columns)\n",
        "\n",
        "    return df_scores\n",
        "\n",
        "# Usage of the function:\n",
        "df_scores = calculate_precision_recall_curve(y_pred, y_val)\n",
        "df_scores[::10]\n"
      ],
      "metadata": {
        "colab": {
          "base_uri": "https://localhost:8080/",
          "height": 394
        },
        "id": "W42RuhaoUgVl",
        "outputId": "7ea0a77b-0eb3-4cfd-9f8d-7b8d0f8a3e56"
      },
      "execution_count": 25,
      "outputs": [
        {
          "output_type": "execute_result",
          "data": {
            "text/plain": [
              "       t   tp    fp    tn   fn         r         p\n",
              "0    0.0  654  1729     0    0  1.000000  0.274444\n",
              "10   0.1  642   377  1352   12  0.981651  0.630029\n",
              "20   0.2  618   235  1494   36  0.944954  0.724502\n",
              "30   0.3  606   154  1575   48  0.926606  0.797368\n",
              "40   0.4  592   116  1613   62  0.905199  0.836158\n",
              "50   0.5  556    77  1652   98  0.850153  0.878357\n",
              "60   0.6  523    60  1669  131  0.799694  0.897084\n",
              "70   0.7  478    27  1702  176  0.730887  0.946535\n",
              "80   0.8  422    10  1719  232  0.645260  0.976852\n",
              "90   0.9  343     3  1726  311  0.524465  0.991329\n",
              "100  1.0    0     0  1729  654  0.000000       NaN"
            ],
            "text/html": [
              "\n",
              "  <div id=\"df-c9fbae52-fafc-468b-801b-dcc3937a08c0\" class=\"colab-df-container\">\n",
              "    <div>\n",
              "<style scoped>\n",
              "    .dataframe tbody tr th:only-of-type {\n",
              "        vertical-align: middle;\n",
              "    }\n",
              "\n",
              "    .dataframe tbody tr th {\n",
              "        vertical-align: top;\n",
              "    }\n",
              "\n",
              "    .dataframe thead th {\n",
              "        text-align: right;\n",
              "    }\n",
              "</style>\n",
              "<table border=\"1\" class=\"dataframe\">\n",
              "  <thead>\n",
              "    <tr style=\"text-align: right;\">\n",
              "      <th></th>\n",
              "      <th>t</th>\n",
              "      <th>tp</th>\n",
              "      <th>fp</th>\n",
              "      <th>tn</th>\n",
              "      <th>fn</th>\n",
              "      <th>r</th>\n",
              "      <th>p</th>\n",
              "    </tr>\n",
              "  </thead>\n",
              "  <tbody>\n",
              "    <tr>\n",
              "      <th>0</th>\n",
              "      <td>0.0</td>\n",
              "      <td>654</td>\n",
              "      <td>1729</td>\n",
              "      <td>0</td>\n",
              "      <td>0</td>\n",
              "      <td>1.000000</td>\n",
              "      <td>0.274444</td>\n",
              "    </tr>\n",
              "    <tr>\n",
              "      <th>10</th>\n",
              "      <td>0.1</td>\n",
              "      <td>642</td>\n",
              "      <td>377</td>\n",
              "      <td>1352</td>\n",
              "      <td>12</td>\n",
              "      <td>0.981651</td>\n",
              "      <td>0.630029</td>\n",
              "    </tr>\n",
              "    <tr>\n",
              "      <th>20</th>\n",
              "      <td>0.2</td>\n",
              "      <td>618</td>\n",
              "      <td>235</td>\n",
              "      <td>1494</td>\n",
              "      <td>36</td>\n",
              "      <td>0.944954</td>\n",
              "      <td>0.724502</td>\n",
              "    </tr>\n",
              "    <tr>\n",
              "      <th>30</th>\n",
              "      <td>0.3</td>\n",
              "      <td>606</td>\n",
              "      <td>154</td>\n",
              "      <td>1575</td>\n",
              "      <td>48</td>\n",
              "      <td>0.926606</td>\n",
              "      <td>0.797368</td>\n",
              "    </tr>\n",
              "    <tr>\n",
              "      <th>40</th>\n",
              "      <td>0.4</td>\n",
              "      <td>592</td>\n",
              "      <td>116</td>\n",
              "      <td>1613</td>\n",
              "      <td>62</td>\n",
              "      <td>0.905199</td>\n",
              "      <td>0.836158</td>\n",
              "    </tr>\n",
              "    <tr>\n",
              "      <th>50</th>\n",
              "      <td>0.5</td>\n",
              "      <td>556</td>\n",
              "      <td>77</td>\n",
              "      <td>1652</td>\n",
              "      <td>98</td>\n",
              "      <td>0.850153</td>\n",
              "      <td>0.878357</td>\n",
              "    </tr>\n",
              "    <tr>\n",
              "      <th>60</th>\n",
              "      <td>0.6</td>\n",
              "      <td>523</td>\n",
              "      <td>60</td>\n",
              "      <td>1669</td>\n",
              "      <td>131</td>\n",
              "      <td>0.799694</td>\n",
              "      <td>0.897084</td>\n",
              "    </tr>\n",
              "    <tr>\n",
              "      <th>70</th>\n",
              "      <td>0.7</td>\n",
              "      <td>478</td>\n",
              "      <td>27</td>\n",
              "      <td>1702</td>\n",
              "      <td>176</td>\n",
              "      <td>0.730887</td>\n",
              "      <td>0.946535</td>\n",
              "    </tr>\n",
              "    <tr>\n",
              "      <th>80</th>\n",
              "      <td>0.8</td>\n",
              "      <td>422</td>\n",
              "      <td>10</td>\n",
              "      <td>1719</td>\n",
              "      <td>232</td>\n",
              "      <td>0.645260</td>\n",
              "      <td>0.976852</td>\n",
              "    </tr>\n",
              "    <tr>\n",
              "      <th>90</th>\n",
              "      <td>0.9</td>\n",
              "      <td>343</td>\n",
              "      <td>3</td>\n",
              "      <td>1726</td>\n",
              "      <td>311</td>\n",
              "      <td>0.524465</td>\n",
              "      <td>0.991329</td>\n",
              "    </tr>\n",
              "    <tr>\n",
              "      <th>100</th>\n",
              "      <td>1.0</td>\n",
              "      <td>0</td>\n",
              "      <td>0</td>\n",
              "      <td>1729</td>\n",
              "      <td>654</td>\n",
              "      <td>0.000000</td>\n",
              "      <td>NaN</td>\n",
              "    </tr>\n",
              "  </tbody>\n",
              "</table>\n",
              "</div>\n",
              "    <div class=\"colab-df-buttons\">\n",
              "\n",
              "  <div class=\"colab-df-container\">\n",
              "    <button class=\"colab-df-convert\" onclick=\"convertToInteractive('df-c9fbae52-fafc-468b-801b-dcc3937a08c0')\"\n",
              "            title=\"Convert this dataframe to an interactive table.\"\n",
              "            style=\"display:none;\">\n",
              "\n",
              "  <svg xmlns=\"http://www.w3.org/2000/svg\" height=\"24px\" viewBox=\"0 -960 960 960\">\n",
              "    <path d=\"M120-120v-720h720v720H120Zm60-500h600v-160H180v160Zm220 220h160v-160H400v160Zm0 220h160v-160H400v160ZM180-400h160v-160H180v160Zm440 0h160v-160H620v160ZM180-180h160v-160H180v160Zm440 0h160v-160H620v160Z\"/>\n",
              "  </svg>\n",
              "    </button>\n",
              "\n",
              "  <style>\n",
              "    .colab-df-container {\n",
              "      display:flex;\n",
              "      gap: 12px;\n",
              "    }\n",
              "\n",
              "    .colab-df-convert {\n",
              "      background-color: #E8F0FE;\n",
              "      border: none;\n",
              "      border-radius: 50%;\n",
              "      cursor: pointer;\n",
              "      display: none;\n",
              "      fill: #1967D2;\n",
              "      height: 32px;\n",
              "      padding: 0 0 0 0;\n",
              "      width: 32px;\n",
              "    }\n",
              "\n",
              "    .colab-df-convert:hover {\n",
              "      background-color: #E2EBFA;\n",
              "      box-shadow: 0px 1px 2px rgba(60, 64, 67, 0.3), 0px 1px 3px 1px rgba(60, 64, 67, 0.15);\n",
              "      fill: #174EA6;\n",
              "    }\n",
              "\n",
              "    .colab-df-buttons div {\n",
              "      margin-bottom: 4px;\n",
              "    }\n",
              "\n",
              "    [theme=dark] .colab-df-convert {\n",
              "      background-color: #3B4455;\n",
              "      fill: #D2E3FC;\n",
              "    }\n",
              "\n",
              "    [theme=dark] .colab-df-convert:hover {\n",
              "      background-color: #434B5C;\n",
              "      box-shadow: 0px 1px 3px 1px rgba(0, 0, 0, 0.15);\n",
              "      filter: drop-shadow(0px 1px 2px rgba(0, 0, 0, 0.3));\n",
              "      fill: #FFFFFF;\n",
              "    }\n",
              "  </style>\n",
              "\n",
              "    <script>\n",
              "      const buttonEl =\n",
              "        document.querySelector('#df-c9fbae52-fafc-468b-801b-dcc3937a08c0 button.colab-df-convert');\n",
              "      buttonEl.style.display =\n",
              "        google.colab.kernel.accessAllowed ? 'block' : 'none';\n",
              "\n",
              "      async function convertToInteractive(key) {\n",
              "        const element = document.querySelector('#df-c9fbae52-fafc-468b-801b-dcc3937a08c0');\n",
              "        const dataTable =\n",
              "          await google.colab.kernel.invokeFunction('convertToInteractive',\n",
              "                                                    [key], {});\n",
              "        if (!dataTable) return;\n",
              "\n",
              "        const docLinkHtml = 'Like what you see? Visit the ' +\n",
              "          '<a target=\"_blank\" href=https://colab.research.google.com/notebooks/data_table.ipynb>data table notebook</a>'\n",
              "          + ' to learn more about interactive tables.';\n",
              "        element.innerHTML = '';\n",
              "        dataTable['output_type'] = 'display_data';\n",
              "        await google.colab.output.renderOutput(dataTable, element);\n",
              "        const docLink = document.createElement('div');\n",
              "        docLink.innerHTML = docLinkHtml;\n",
              "        element.appendChild(docLink);\n",
              "      }\n",
              "    </script>\n",
              "  </div>\n",
              "\n",
              "\n",
              "<div id=\"df-8fb6bab5-287d-4b7a-a64d-12200e7b44f4\">\n",
              "  <button class=\"colab-df-quickchart\" onclick=\"quickchart('df-8fb6bab5-287d-4b7a-a64d-12200e7b44f4')\"\n",
              "            title=\"Suggest charts.\"\n",
              "            style=\"display:none;\">\n",
              "\n",
              "<svg xmlns=\"http://www.w3.org/2000/svg\" height=\"24px\"viewBox=\"0 0 24 24\"\n",
              "     width=\"24px\">\n",
              "    <g>\n",
              "        <path d=\"M19 3H5c-1.1 0-2 .9-2 2v14c0 1.1.9 2 2 2h14c1.1 0 2-.9 2-2V5c0-1.1-.9-2-2-2zM9 17H7v-7h2v7zm4 0h-2V7h2v10zm4 0h-2v-4h2v4z\"/>\n",
              "    </g>\n",
              "</svg>\n",
              "  </button>\n",
              "\n",
              "<style>\n",
              "  .colab-df-quickchart {\n",
              "      --bg-color: #E8F0FE;\n",
              "      --fill-color: #1967D2;\n",
              "      --hover-bg-color: #E2EBFA;\n",
              "      --hover-fill-color: #174EA6;\n",
              "      --disabled-fill-color: #AAA;\n",
              "      --disabled-bg-color: #DDD;\n",
              "  }\n",
              "\n",
              "  [theme=dark] .colab-df-quickchart {\n",
              "      --bg-color: #3B4455;\n",
              "      --fill-color: #D2E3FC;\n",
              "      --hover-bg-color: #434B5C;\n",
              "      --hover-fill-color: #FFFFFF;\n",
              "      --disabled-bg-color: #3B4455;\n",
              "      --disabled-fill-color: #666;\n",
              "  }\n",
              "\n",
              "  .colab-df-quickchart {\n",
              "    background-color: var(--bg-color);\n",
              "    border: none;\n",
              "    border-radius: 50%;\n",
              "    cursor: pointer;\n",
              "    display: none;\n",
              "    fill: var(--fill-color);\n",
              "    height: 32px;\n",
              "    padding: 0;\n",
              "    width: 32px;\n",
              "  }\n",
              "\n",
              "  .colab-df-quickchart:hover {\n",
              "    background-color: var(--hover-bg-color);\n",
              "    box-shadow: 0 1px 2px rgba(60, 64, 67, 0.3), 0 1px 3px 1px rgba(60, 64, 67, 0.15);\n",
              "    fill: var(--button-hover-fill-color);\n",
              "  }\n",
              "\n",
              "  .colab-df-quickchart-complete:disabled,\n",
              "  .colab-df-quickchart-complete:disabled:hover {\n",
              "    background-color: var(--disabled-bg-color);\n",
              "    fill: var(--disabled-fill-color);\n",
              "    box-shadow: none;\n",
              "  }\n",
              "\n",
              "  .colab-df-spinner {\n",
              "    border: 2px solid var(--fill-color);\n",
              "    border-color: transparent;\n",
              "    border-bottom-color: var(--fill-color);\n",
              "    animation:\n",
              "      spin 1s steps(1) infinite;\n",
              "  }\n",
              "\n",
              "  @keyframes spin {\n",
              "    0% {\n",
              "      border-color: transparent;\n",
              "      border-bottom-color: var(--fill-color);\n",
              "      border-left-color: var(--fill-color);\n",
              "    }\n",
              "    20% {\n",
              "      border-color: transparent;\n",
              "      border-left-color: var(--fill-color);\n",
              "      border-top-color: var(--fill-color);\n",
              "    }\n",
              "    30% {\n",
              "      border-color: transparent;\n",
              "      border-left-color: var(--fill-color);\n",
              "      border-top-color: var(--fill-color);\n",
              "      border-right-color: var(--fill-color);\n",
              "    }\n",
              "    40% {\n",
              "      border-color: transparent;\n",
              "      border-right-color: var(--fill-color);\n",
              "      border-top-color: var(--fill-color);\n",
              "    }\n",
              "    60% {\n",
              "      border-color: transparent;\n",
              "      border-right-color: var(--fill-color);\n",
              "    }\n",
              "    80% {\n",
              "      border-color: transparent;\n",
              "      border-right-color: var(--fill-color);\n",
              "      border-bottom-color: var(--fill-color);\n",
              "    }\n",
              "    90% {\n",
              "      border-color: transparent;\n",
              "      border-bottom-color: var(--fill-color);\n",
              "    }\n",
              "  }\n",
              "</style>\n",
              "\n",
              "  <script>\n",
              "    async function quickchart(key) {\n",
              "      const quickchartButtonEl =\n",
              "        document.querySelector('#' + key + ' button');\n",
              "      quickchartButtonEl.disabled = true;  // To prevent multiple clicks.\n",
              "      quickchartButtonEl.classList.add('colab-df-spinner');\n",
              "      try {\n",
              "        const charts = await google.colab.kernel.invokeFunction(\n",
              "            'suggestCharts', [key], {});\n",
              "      } catch (error) {\n",
              "        console.error('Error during call to suggestCharts:', error);\n",
              "      }\n",
              "      quickchartButtonEl.classList.remove('colab-df-spinner');\n",
              "      quickchartButtonEl.classList.add('colab-df-quickchart-complete');\n",
              "    }\n",
              "    (() => {\n",
              "      let quickchartButtonEl =\n",
              "        document.querySelector('#df-8fb6bab5-287d-4b7a-a64d-12200e7b44f4 button');\n",
              "      quickchartButtonEl.style.display =\n",
              "        google.colab.kernel.accessAllowed ? 'block' : 'none';\n",
              "    })();\n",
              "  </script>\n",
              "</div>\n",
              "    </div>\n",
              "  </div>\n"
            ]
          },
          "metadata": {},
          "execution_count": 25
        }
      ]
    },
    {
      "cell_type": "code",
      "source": [
        " # Create a figure and axes for the precision-recall curve\n",
        "fig, ax = plt.subplots(figsize=(5, 5), dpi=100)\n",
        "plt.xticks(np.linspace(0, 1, 11))\n",
        "plt.yticks(np.linspace(0, 1, 11))\n",
        "plt.plot(df_scores[\"t\"], df_scores[\"p\"], label=\"precision\", color=\"green\", linestyle=\"dashed\", linewidth=0.5)\n",
        "plt.plot(df_scores[\"t\"], df_scores[\"r\"], label=\"recall\", color=\"red\", linestyle=\"dashed\", linewidth=0.5)\n",
        "plt.xlabel(\"Threshold\")\n",
        "plt.ylabel(\"Value\")\n",
        "plt.title(\"Precision-Recall Curve\")\n",
        "plt.legend()\n",
        "plt.show()"
      ],
      "metadata": {
        "colab": {
          "base_uri": "https://localhost:8080/",
          "height": 487
        },
        "id": "ReLyR6wPmxy1",
        "outputId": "b5743910-b293-4c09-c7eb-72c60b64aa99"
      },
      "execution_count": 27,
      "outputs": [
        {
          "output_type": "display_data",
          "data": {
            "text/plain": [
              "<Figure size 500x500 with 1 Axes>"
            ],
            "image/png": "[encoded data removed]"
          },
          "metadata": {}
        }
      ]
    },
    {
      "cell_type": "code",
      "source": [
        "# Searching for points where the curves intersect (where precision and sensitivity are identical)\n",
        "intersection_points = df_scores[df_scores['p'] - df_scores['r'] == 0.0]\n",
        "threshold_values = ', '.join(map(str, intersection_points['t'].tolist()))\n",
        "\n",
        "print(intersection_points[['t', 'p', 'r']])"
      ],
      "metadata": {
        "colab": {
          "base_uri": "https://localhost:8080/"
        },
        "id": "FSR0Z3F2WwL1",
        "outputId": "ea6cdbf0-d45f-44f3-cdcf-8a6ef65cccbd"
      },
      "execution_count": 28,
      "outputs": [
        {
          "output_type": "stream",
          "name": "stdout",
          "text": [
            "       t         p         r\n",
            "44  0.44  0.863914  0.863914\n",
            "45  0.45  0.863914  0.863914\n"
          ]
        }
      ]
    },
    {
      "cell_type": "code",
      "source": [
        "print(f\"\\nAnswer to question 3:\")\n",
        "print(f\"Precision and recall curves intersect at threshold: {threshold_values}\")"
      ],
      "metadata": {
        "colab": {
          "base_uri": "https://localhost:8080/"
        },
        "id": "yCJhB7glWMxs",
        "outputId": "cde05686-609c-4f10-fe58-d09727056b77"
      },
      "execution_count": 29,
      "outputs": [
        {
          "output_type": "stream",
          "name": "stdout",
          "text": [
            "\n",
            "Answer to question 3:\n",
            "Precision and recall curves intersect at threshold: 0.44, 0.45\n"
          ]
        }
      ]
    },
    {
      "cell_type": "markdown",
      "source": [
        "## ***Question 4***"
      ],
      "metadata": {
        "id": "_hZuuDArdF3O"
      }
    },
    {
      "cell_type": "code",
      "source": [
        "def calculate_and_plot_f1_score(y_pred, y_val):\n",
        "    df_scores = calculate_precision_recall_curve(y_pred, y_val)\n",
        "\n",
        "    # Calculate F1 scores from precision and recall\n",
        "    df_scores['f1'] = 2 * (df_scores['p'] * df_scores['r']) / (df_scores['p'] + df_scores['r'])\n",
        "\n",
        "    max_f1_score = df_scores['f1'].max()\n",
        "    best_threshold_idx = df_scores['f1'].idxmax()\n",
        "    best_threshold = df_scores.at[best_threshold_idx, 't']\n",
        "\n",
        "    plt.figure(figsize=(5, 5), dpi=100)\n",
        "    plt.plot(df_scores['t'], df_scores['f1'], label='F1 Score', color='green', linestyle='dashed', linewidth=0.5)\n",
        "    plt.xlabel('Threshold')\n",
        "    plt.ylabel('F1 Score')\n",
        "    plt.title('F1 Score vs. Threshold')\n",
        "    plt.grid(True)\n",
        "    plt.legend()\n",
        "\n",
        "    plt.scatter(best_threshold, max_f1_score, color='red', marker='x', label=f'Max F1 ({best_threshold:.2f}, {max_f1_score:.3f})')\n",
        "\n",
        "    plt.legend()\n",
        "    plt.show()\n",
        "\n",
        "    return best_threshold, max_f1_score\n",
        "\n",
        "# Usage of the function to calculate and plot F1 Score vs. Threshold\n",
        "best_threshold, max_f1_score = calculate_and_plot_f1_score(y_pred, y_val)"
      ],
      "metadata": {
        "colab": {
          "base_uri": "https://localhost:8080/",
          "height": 487
        },
        "id": "FBdO84Dw3H-W",
        "outputId": "1af82b79-e6ee-41e9-f417-e633dd1c2d63"
      },
      "execution_count": 30,
      "outputs": [
        {
          "output_type": "display_data",
          "data": {
            "text/plain": [
              "<Figure size 500x500 with 1 Axes>"
            ],
            "image/png": "[encoded data removed]"
          },
          "metadata": {}
        }
      ]
    },
    {
      "cell_type": "code",
      "source": [
        "print(f\"\\nAnswer to question 4:\")\n",
        "print(f\"The maximal F1 score is {max_f1_score:.6f} at threshold {best_threshold:.2f}\")"
      ],
      "metadata": {
        "colab": {
          "base_uri": "https://localhost:8080/"
        },
        "id": "WzkL2xm_jli9",
        "outputId": "188f8eaf-5659-4b4f-b6ea-b535bb54827a"
      },
      "execution_count": 31,
      "outputs": [
        {
          "output_type": "stream",
          "name": "stdout",
          "text": [
            "\n",
            "Answer to question 4:\n",
            "The maximal F1 score is 0.869310 at threshold 0.40\n"
          ]
        }
      ]
    },
    {
      "cell_type": "markdown",
      "source": [
        "## ***Question 5***"
      ],
      "metadata": {
        "id": "42CKLZFInUBs"
      }
    },
    {
      "cell_type": "code",
      "source": [
        "# Import the KFold class from scikit-learn\n",
        "from sklearn.model_selection import KFold"
      ],
      "metadata": {
        "id": "1Z2s0LCqnRbN"
      },
      "execution_count": 32,
      "outputs": []
    },
    {
      "cell_type": "code",
      "source": [
        "# Training function that prepares and trains a logistic regression model:\n",
        "def train(df_train, y_train, C=1.0):\n",
        "    dicts = df_train[cat + num].to_dict(orient='records')\n",
        "    dv = DictVectorizer(sparse=False)\n",
        "    X_train = dv.fit_transform(dicts)\n",
        "\n",
        "    # Initialize a logistic regression model with specified hyperparameters\n",
        "    model = LogisticRegression(solver='liblinear', C=C, max_iter=1000)\n",
        "    model.fit(X_train, y_train)\n",
        "\n",
        "    # Return the trained DictVectorizer and the logistic regression model\n",
        "    return dv, model\n",
        "\n",
        "# Prediction function that uses a trained model to make predictions:\n",
        "def predict(df, dv, model):\n",
        "    dicts = df[cat + num].to_dict(orient='records')\n",
        "    X = dv.transform(dicts)\n",
        "\n",
        "    # Make probability predictions for the positive class (class 1)\n",
        "    y_pred = model.predict_proba(X)[:, 1]\n",
        "\n",
        "    # Return the probability predictions\n",
        "    return y_pred"
      ],
      "metadata": {
        "id": "VpzoxZ1Oq-Pv"
      },
      "execution_count": 33,
      "outputs": []
    },
    {
      "cell_type": "code",
      "source": [
        "# Generate predictions on the validation dataset using the trained model:\n",
        "y_pred = predict(df_val, dv, model)"
      ],
      "metadata": {
        "id": "tmmkK-wl80lY"
      },
      "execution_count": 34,
      "outputs": []
    },
    {
      "cell_type": "code",
      "source": [
        "# Initialize an empty list to store the AUC scores for each fold\n",
        "scores = []\n",
        "\n",
        "# Create a 5-fold cross-validation iterator with shuffling and a random seed for reproducibility\n",
        "kfold = KFold(n_splits=5, shuffle=True, random_state=1)\n",
        "\n",
        "# Iterate over the 5 folds of the training data\n",
        "for train_idx, val_idx in kfold.split(df_full_train):\n",
        "    df_train = df_full_train.iloc[train_idx]\n",
        "    df_val = df_full_train.iloc[val_idx]\n",
        "\n",
        "    # Extract the target variables (above_average) for training and validation sets\n",
        "    y_train = df_train.above_average.values\n",
        "    y_val = df_val.above_average.values\n",
        "\n",
        "    # Train a logistic regression model with specified parameters (C=1.0)\n",
        "    # using the train function which prepares the data and fits the model\n",
        "    dv, model = train(df_train, y_train, C=1.0)\n",
        "\n",
        "    # Use the trained model to make predictions on the validation set\n",
        "    y_pred = predict(df_val, dv, model)\n",
        "\n",
        "    auc = roc_auc_score(y_val, y_pred)\n",
        "    scores.append(auc)\n",
        "\n",
        "# Calculate the mean and standard deviation of the AUC scores across all folds\n",
        "mean_scores = np.mean(scores)\n",
        "std_deviation = np.std(scores)\n",
        "\n",
        "print(f'Mean AUC scores:{mean_scores:.3f} +- {std_deviation:.3f}')"
      ],
      "metadata": {
        "colab": {
          "base_uri": "https://localhost:8080/"
        },
        "id": "RwJeAXcfnyac",
        "outputId": "6e47ca1c-7de5-4025-a420-27a203f2f654"
      },
      "execution_count": 35,
      "outputs": [
        {
          "output_type": "stream",
          "name": "stdout",
          "text": [
            "Mean AUC scores:0.978 +- 0.001\n"
          ]
        }
      ]
    },
    {
      "cell_type": "code",
      "source": [
        "print(f\"\\nAnswer to question 5:\")\n",
        "print(f'The standard deviation of the AUC results in each fold is: {std_deviation:.3f}')"
      ],
      "metadata": {
        "colab": {
          "base_uri": "https://localhost:8080/"
        },
        "id": "DkEIKVYVnyS4",
        "outputId": "d76d8f34-07bf-4f68-a39c-29708867e8b8"
      },
      "execution_count": 36,
      "outputs": [
        {
          "output_type": "stream",
          "name": "stdout",
          "text": [
            "\n",
            "Answer to question 5:\n",
            "The standard deviation of the AUC results in each fold is: 0.001\n"
          ]
        }
      ]
    },
    {
      "cell_type": "markdown",
      "source": [
        "## ***Question 6***"
      ],
      "metadata": {
        "id": "6ZwrqnDBoKBl"
      }
    },
    {
      "cell_type": "code",
      "source": [
        "# Imports the tqdm library and specifically the tqdm class from the \"tqdm.auto\" module.\n",
        "from tqdm.auto import tqdm"
      ],
      "metadata": {
        "id": "6tNjCImP_mGV"
      },
      "execution_count": 37,
      "outputs": []
    },
    {
      "cell_type": "code",
      "source": [
        "# Define a function calel 'train'\n",
        "def train(df, y, C = 1):\n",
        "    # Convert the selected DataFrame columns to a list of dictionaries\n",
        "    dicts = df[cat + num].to_dict(orient='records')\n",
        "\n",
        "    dv = DictVectorizer(sparse=False)\n",
        "    X = dv.fit_transform(dicts)\n",
        "\n",
        "    # Create a Logistic Regression model with specified parameters\n",
        "    model = LogisticRegression(solver='liblinear', C=C, max_iter=1000)\n",
        "    model.fit(X, y)\n",
        "\n",
        "    # Return the trained DictVectorizer and the trained Logistic Regression model\n",
        "    return dv, model"
      ],
      "metadata": {
        "id": "S3UCxBmH_mDt"
      },
      "execution_count": 38,
      "outputs": []
    },
    {
      "cell_type": "code",
      "source": [
        "# This code defines a function cross_validate_C that performs cross-validation\n",
        "# for different values of the regularization parameter C using logistic regression.\n",
        "# It computes the ROC AUC scores for each C value and returns the results as a list of tuples containing C,\n",
        "# mean score, and standard deviation. The function is then used to evaluate and print the performance of different C values on the dataset.\n",
        "\n",
        "def cross_validate_C(df_full_train, C_values):\n",
        "    results = []\n",
        "\n",
        "    # Iterate over different values of C\n",
        "    for C in tqdm(C_values):\n",
        "        scores = []\n",
        "        n_splits = 5  # Number of splits for cross-validation\n",
        "\n",
        "        # Create KFold cross-validator with shuffling\n",
        "        kfold = KFold(n_splits=n_splits, shuffle=True, random_state=1)\n",
        "\n",
        "        # Perform cross-validation\n",
        "        for train_idx, val_idx in kfold.split(df_full_train):\n",
        "            df_train = df_full_train.iloc[train_idx]\n",
        "            df_val = df_full_train.iloc[val_idx]\n",
        "\n",
        "            y_train = df_train.above_average.values\n",
        "            y_val = df_val.above_average.values\n",
        "\n",
        "            # Train a model with the specified C value\n",
        "            dv, model = train(df_train, y_train, C=C)\n",
        "            y_pred = predict(df_val, dv, model)\n",
        "\n",
        "            # Calculate ROC AUC score and append to the scores list\n",
        "            auc = roc_auc_score(y_val, y_pred)\n",
        "            scores.append(auc)\n",
        "\n",
        "        # Calculate the mean score and standard deviation\n",
        "        mean_score = np.round(np.mean(scores), 3)\n",
        "        std_deviation = np.round(np.std(scores), 8)\n",
        "\n",
        "        # Store results as a tuple (C, mean_score, std_deviation)\n",
        "        results.append((C, mean_score, std_deviation))\n",
        "\n",
        "    return results\n",
        "\n",
        "# Usage of the function:\n",
        "C_values = [0.01, 0.1, 0.5, 10]\n",
        "results = cross_validate_C(df_full_train, C_values)\n",
        "\n",
        "for C, mean_score, std_deviation in results:\n",
        "    print(f\"C={C}, Mean Score: {mean_score}, STD: {std_deviation}\")"
      ],
      "metadata": {
        "colab": {
          "base_uri": "https://localhost:8080/",
          "height": 120,
          "referenced_widgets": [
            "098bb661c0c641ffa50466e9b75dfd65",
            "e9b545e85b7147918479bd0ae3ccb696",
            "3642cbf69e684ef2849cc156afd612e0",
            "f6d42f8ca4d7427dbb1e83f2b52c65dd",
            "1f3cc348e51f481e886d52383c0c10d8",
            "b9a30f111d234fc3be8b9b0aa3a19fe9",
            "23b0b8dccb86415c8a83f26ddab273cc",
            "847750bc87a943609d397ab9c7830795",
            "2bfbe1f45dcc4487bfcfb76ed7e42475",
            "a6b46029fc484bd78246be06095b990a",
            "86367dcb74a84b3a90719efa869791e8"
          ]
        },
        "id": "oZkuCHfKrBeX",
        "outputId": "1b1e0dab-333c-45fc-f817-0573c450f6c0"
      },
      "execution_count": 39,
      "outputs": [
        {
          "output_type": "display_data",
          "data": {
            "text/plain": [
              "  0%|          | 0/4 [00:00<?, ?it/s]"
            ],
            "application/vnd.jupyter.widget-view+json": {
              "version_major": 2,
              "version_minor": 0,
              "model_id": "098bb661c0c641ffa50466e9b75dfd65"
            }
          },
          "metadata": {}
        },
        {
          "output_type": "stream",
          "name": "stdout",
          "text": [
            "C=0.01, Mean Score: 0.947, STD: 0.00214518\n",
            "C=0.1, Mean Score: 0.969, STD: 0.00160081\n",
            "C=0.5, Mean Score: 0.977, STD: 0.00230198\n",
            "C=10, Mean Score: 0.98, STD: 0.00213328\n"
          ]
        }
      ]
    },
    {
      "cell_type": "code",
      "source": [
        "best_result = max(results, key=lambda x: x[1])\n",
        "\n",
        "print(f\"\\nAnswer to question 6:\")\n",
        "print(f\"The best average result is led by C={best_result[0]}, Mean Score: {best_result[1]}, STD: {best_result[2]}\")"
      ],
      "metadata": {
        "colab": {
          "base_uri": "https://localhost:8080/"
        },
        "id": "AmcdHvH7s5Om",
        "outputId": "d4e67911-66fa-4774-b9a1-cd6a742116d3"
      },
      "execution_count": 40,
      "outputs": [
        {
          "output_type": "stream",
          "name": "stdout",
          "text": [
            "\n",
            "Answer to question 6:\n",
            "The best average result is led by C=10, Mean Score: 0.98, STD: 0.00213328\n"
          ]
        }
      ]
    }
  ]
}
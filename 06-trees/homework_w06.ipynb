{
 "cells": [
  {
   "cell_type": "markdown",
   "id": "28857bd4",
   "metadata": {},
   "source": [
    "## Preparing the environment"
   ]
  },
  {
   "cell_type": "code",
   "execution_count": 1,
   "id": "9e67d2ce",
   "metadata": {},
   "outputs": [],
   "source": [
    "# Importing libraries\n",
    "import numpy as np\n",
    "import pandas as pd\n",
    "import seaborn as sns\n",
    "import matplotlib.pyplot as plt\n",
    "\n",
    "import warnings\n",
    "warnings.filterwarnings(\"ignore\")"
   ]
  },
  {
   "cell_type": "markdown",
   "id": "d1027064",
   "metadata": {},
   "source": [
    "## Dataset"
   ]
  },
  {
   "cell_type": "code",
   "execution_count": 2,
   "id": "1d63a521",
   "metadata": {},
   "outputs": [],
   "source": [
    "# Importing a dataset and creating a DataFrame\n",
    "data = pd.read_csv(\"https://raw.githubusercontent.com/alexeygrigorev/datasets/master/housing.csv\")\n",
    "df_init = data.copy()"
   ]
  },
  {
   "cell_type": "markdown",
   "id": "56acb587",
   "metadata": {},
   "source": [
    "## Preparing the dataset"
   ]
  },
  {
   "cell_type": "code",
   "execution_count": 3,
   "id": "c14d12e1",
   "metadata": {},
   "outputs": [
    {
     "data": {
      "text/plain": [
       "(15687, 10)"
      ]
     },
     "metadata": {},
     "output_type": "display_data"
    },
    {
     "data": {
      "text/html": [
       "<div>\n",
       "<style scoped>\n",
       "    .dataframe tbody tr th:only-of-type {\n",
       "        vertical-align: middle;\n",
       "    }\n",
       "\n",
       "    .dataframe tbody tr th {\n",
       "        vertical-align: top;\n",
       "    }\n",
       "\n",
       "    .dataframe thead th {\n",
       "        text-align: right;\n",
       "    }\n",
       "</style>\n",
       "<table border=\"1\" class=\"dataframe\">\n",
       "  <thead>\n",
       "    <tr style=\"text-align: right;\">\n",
       "      <th></th>\n",
       "      <th>longitude</th>\n",
       "      <th>latitude</th>\n",
       "      <th>housing_median_age</th>\n",
       "      <th>total_rooms</th>\n",
       "      <th>total_bedrooms</th>\n",
       "      <th>population</th>\n",
       "      <th>households</th>\n",
       "      <th>median_income</th>\n",
       "      <th>median_house_value</th>\n",
       "      <th>ocean_proximity</th>\n",
       "    </tr>\n",
       "  </thead>\n",
       "  <tbody>\n",
       "    <tr>\n",
       "      <th>701</th>\n",
       "      <td>-121.97</td>\n",
       "      <td>37.64</td>\n",
       "      <td>32.0</td>\n",
       "      <td>1283.0</td>\n",
       "      <td>194.0</td>\n",
       "      <td>485.0</td>\n",
       "      <td>171.0</td>\n",
       "      <td>6.0574</td>\n",
       "      <td>431000.0</td>\n",
       "      <td>&lt;1H OCEAN</td>\n",
       "    </tr>\n",
       "    <tr>\n",
       "      <th>830</th>\n",
       "      <td>-121.99</td>\n",
       "      <td>37.61</td>\n",
       "      <td>9.0</td>\n",
       "      <td>3666.0</td>\n",
       "      <td>711.0</td>\n",
       "      <td>2341.0</td>\n",
       "      <td>703.0</td>\n",
       "      <td>4.6458</td>\n",
       "      <td>217000.0</td>\n",
       "      <td>&lt;1H OCEAN</td>\n",
       "    </tr>\n",
       "    <tr>\n",
       "      <th>859</th>\n",
       "      <td>-121.97</td>\n",
       "      <td>37.57</td>\n",
       "      <td>21.0</td>\n",
       "      <td>4342.0</td>\n",
       "      <td>783.0</td>\n",
       "      <td>2172.0</td>\n",
       "      <td>789.0</td>\n",
       "      <td>4.6146</td>\n",
       "      <td>247600.0</td>\n",
       "      <td>&lt;1H OCEAN</td>\n",
       "    </tr>\n",
       "    <tr>\n",
       "      <th>860</th>\n",
       "      <td>-121.96</td>\n",
       "      <td>37.58</td>\n",
       "      <td>15.0</td>\n",
       "      <td>3575.0</td>\n",
       "      <td>597.0</td>\n",
       "      <td>1777.0</td>\n",
       "      <td>559.0</td>\n",
       "      <td>5.7192</td>\n",
       "      <td>283500.0</td>\n",
       "      <td>&lt;1H OCEAN</td>\n",
       "    </tr>\n",
       "    <tr>\n",
       "      <th>861</th>\n",
       "      <td>-121.98</td>\n",
       "      <td>37.58</td>\n",
       "      <td>20.0</td>\n",
       "      <td>4126.0</td>\n",
       "      <td>1031.0</td>\n",
       "      <td>2079.0</td>\n",
       "      <td>975.0</td>\n",
       "      <td>3.6832</td>\n",
       "      <td>216900.0</td>\n",
       "      <td>&lt;1H OCEAN</td>\n",
       "    </tr>\n",
       "  </tbody>\n",
       "</table>\n",
       "</div>"
      ],
      "text/plain": [
       "     longitude  latitude  housing_median_age  total_rooms  total_bedrooms  \\\n",
       "701    -121.97     37.64                32.0       1283.0           194.0   \n",
       "830    -121.99     37.61                 9.0       3666.0           711.0   \n",
       "859    -121.97     37.57                21.0       4342.0           783.0   \n",
       "860    -121.96     37.58                15.0       3575.0           597.0   \n",
       "861    -121.98     37.58                20.0       4126.0          1031.0   \n",
       "\n",
       "     population  households  median_income  median_house_value ocean_proximity  \n",
       "701       485.0       171.0         6.0574            431000.0       <1H OCEAN  \n",
       "830      2341.0       703.0         4.6458            217000.0       <1H OCEAN  \n",
       "859      2172.0       789.0         4.6146            247600.0       <1H OCEAN  \n",
       "860      1777.0       559.0         5.7192            283500.0       <1H OCEAN  \n",
       "861      2079.0       975.0         3.6832            216900.0       <1H OCEAN  "
      ]
     },
     "metadata": {},
     "output_type": "display_data"
    }
   ],
   "source": [
    "# Retention of records whose ocean_proximity has the value \"<1H OCEAN\" or \"INLAND\".\n",
    "df_subset = df_init.loc[df_init['ocean_proximity'].isin(['<1H OCEAN', 'INLAND'])]\n",
    "display(df_subset.shape)\n",
    "display(df_subset.head())"
   ]
  },
  {
   "cell_type": "code",
   "execution_count": 4,
   "id": "b0c81077",
   "metadata": {},
   "outputs": [],
   "source": [
    "# Create a copy of the DataFrame 'df_subset' and assign it to 'df'\n",
    "df = df_subset.copy()"
   ]
  },
  {
   "cell_type": "code",
   "execution_count": 5,
   "id": "44efc630",
   "metadata": {},
   "outputs": [],
   "source": [
    "# Converting string columns to lowercase and replacing spaces with underscores\n",
    "df.columns = df.columns.str.replace(' ', '_').str.lower()\n",
    "string_columns = list(df.dtypes[df.dtypes == \"object\"].index)\n",
    "\n",
    "for col in string_columns:\n",
    "    df[col] = df[col].str.lower().str.replace(\" \", \"_\")"
   ]
  },
  {
   "cell_type": "code",
   "execution_count": 6,
   "id": "f8a00c5d",
   "metadata": {},
   "outputs": [
    {
     "data": {
      "text/plain": [
       "longitude               0\n",
       "latitude                0\n",
       "housing_median_age      0\n",
       "total_rooms             0\n",
       "total_bedrooms        157\n",
       "population              0\n",
       "households              0\n",
       "median_income           0\n",
       "median_house_value      0\n",
       "ocean_proximity         0\n",
       "dtype: int64"
      ]
     },
     "execution_count": 6,
     "metadata": {},
     "output_type": "execute_result"
    }
   ],
   "source": [
    "# Count missing values in each column of the DataFrame 'df'\n",
    "df.isnull().sum()"
   ]
  },
  {
   "cell_type": "code",
   "execution_count": 7,
   "id": "e3f29dea",
   "metadata": {},
   "outputs": [
    {
     "data": {
      "text/plain": [
       "longitude             0\n",
       "latitude              0\n",
       "housing_median_age    0\n",
       "total_rooms           0\n",
       "total_bedrooms        0\n",
       "population            0\n",
       "households            0\n",
       "median_income         0\n",
       "median_house_value    0\n",
       "ocean_proximity       0\n",
       "dtype: int64"
      ]
     },
     "execution_count": 7,
     "metadata": {},
     "output_type": "execute_result"
    }
   ],
   "source": [
    "# Fill missing values in the 'total_bedrooms' column with 0\n",
    "df['total_bedrooms'] = df['total_bedrooms'].fillna(0)\n",
    "\n",
    "# Check for remaining missing values in each column of DataFrame 'df'\n",
    "df.isnull().sum()"
   ]
  },
  {
   "cell_type": "code",
   "execution_count": 8,
   "id": "89c36cb0",
   "metadata": {},
   "outputs": [],
   "source": [
    "# Splitting the data into train, validation, and test sets\n",
    "# Importing library\n",
    "from sklearn.model_selection import train_test_split"
   ]
  },
  {
   "cell_type": "code",
   "execution_count": 9,
   "id": "06cd70e4",
   "metadata": {},
   "outputs": [
    {
     "name": "stdout",
     "output_type": "stream",
     "text": [
      "n_dataset = \t\t15687\n",
      "n_train = \t\t9411\t60%\n",
      "n_val = \t\t3138\t20%\n",
      "n_test = \t\t3138\t20%\n",
      "check of sum:\n",
      "(train + val + test) = \t15687\n"
     ]
    }
   ],
   "source": [
    "# Splitting the DataFrame 'df' into three subsets: training, validation, and testing.\n",
    "df_full_train, df_test = train_test_split(df, test_size=0.2, random_state=1)\n",
    "df_train, df_val = train_test_split(df_full_train, test_size=0.25, random_state=1)\n",
    "\n",
    "# Displaying the sizes of different data sets\n",
    "n = len(df)\n",
    "n_full_train = len(df_full_train)\n",
    "n_train = len(df_train)\n",
    "n_val = len(df_val)\n",
    "n_test = len(df_test)\n",
    "\n",
    "print(f\"n_dataset = \\t\\t{n}\")\n",
    "# print(f\"n_full_train = \\t\\t{n_full_train}\")\n",
    "print(f\"n_train = \\t\\t{n_train}\\t{(n_train / n) * 100:.0f}%\")\n",
    "print(f\"n_val = \\t\\t{n_val}\\t{(n_val / n) * 100:.0f}%\")\n",
    "print(f\"n_test = \\t\\t{n_test}\\t{(n_test / n) * 100:.0f}%\")\n",
    "print(f\"check of sum:\\n(train + val + test) = \\t{n_train + n_val + n_test}\")\n",
    "     \n"
   ]
  },
  {
   "cell_type": "code",
   "execution_count": 10,
   "id": "59d0598d",
   "metadata": {},
   "outputs": [],
   "source": [
    "# Reset the indexes for df_train, df_val, and df_test\n",
    "df_train = df_train.reset_index(drop=True)\n",
    "df_val = df_val.reset_index(drop=True)\n",
    "df_test = df_test.reset_index(drop=True)"
   ]
  },
  {
   "cell_type": "code",
   "execution_count": 11,
   "id": "8136d304",
   "metadata": {},
   "outputs": [],
   "source": [
    "# Creating target variables for the training, validation, and test datasets.\n",
    "# These variables represent the 'above_average' column values from their respective datasets.\n",
    "y_train = np.log1p(df_train.median_house_value.values)\n",
    "y_val = np.log1p(df_val.median_house_value.values)\n",
    "y_test = np.log1p(df_test.median_house_value.values)"
   ]
  },
  {
   "cell_type": "code",
   "execution_count": 12,
   "id": "e2641be0",
   "metadata": {},
   "outputs": [],
   "source": [
    "# Removing the 'median_house_value' column from the training, validation, and test datasets.\n",
    "# This column is being dropped as it is the target variable for binary classification.\n",
    "df_train = df_train.drop('median_house_value', axis=1)\n",
    "df_val = df_val.drop('median_house_value', axis=1)\n",
    "df_test = df_test.drop('median_house_value', axis=1)"
   ]
  },
  {
   "cell_type": "code",
   "execution_count": 13,
   "id": "4c103632",
   "metadata": {},
   "outputs": [
    {
     "name": "stdout",
     "output_type": "stream",
     "text": [
      "['longitude', 'latitude', 'housing_median_age', 'total_rooms', 'total_bedrooms', 'population', 'households', 'median_income']\n",
      "['ocean_proximity']\n"
     ]
    }
   ],
   "source": [
    "# Create a list of column names containing numerical data types (int64 and float64)\n",
    "# from the DataFrame.\n",
    "num = list(df_train.select_dtypes(include=['int64', 'float64']).columns)\n",
    "print(num)\n",
    "\n",
    "# Creating a list of column names ('cat') where the data type is 'object'\n",
    "cat = list(df_train.select_dtypes(include=['object']).columns)\n",
    "print(cat)"
   ]
  },
  {
   "cell_type": "code",
   "execution_count": 14,
   "id": "56ad3cad",
   "metadata": {},
   "outputs": [],
   "source": [
    "# One-hot encoding categorical variables and training\n",
    "# Importing libraries\n",
    "from sklearn.feature_extraction import DictVectorizer"
   ]
  },
  {
   "cell_type": "code",
   "execution_count": 15,
   "id": "3db4205f",
   "metadata": {},
   "outputs": [],
   "source": [
    "# Converting data sets into dictionaries\n",
    "train_dict = df_train[num + cat].to_dict(orient=\"records\")\n",
    "val_dict = df_val[num + cat].to_dict(orient=\"records\")\n",
    "\n",
    "# One-hot encoding of categorical variables\n",
    "dv = DictVectorizer(sparse=False)\n",
    "\n",
    "# Preparing feature matrices\n",
    "X_train = dv.fit_transform(train_dict)\n",
    "X_val = dv.transform(val_dict)"
   ]
  },
  {
   "cell_type": "markdown",
   "id": "a170f5e3",
   "metadata": {},
   "source": [
    "### Questions 1"
   ]
  },
  {
   "cell_type": "code",
   "execution_count": 16,
   "id": "06a5ee65",
   "metadata": {},
   "outputs": [],
   "source": [
    "# Imports the DecisionTreeRegressor from the scikit-learn library\n",
    "from sklearn.tree import DecisionTreeRegressor"
   ]
  },
  {
   "cell_type": "code",
   "execution_count": 17,
   "id": "a50ca9d8",
   "metadata": {},
   "outputs": [
    {
     "data": {
      "text/html": [
       "<style>#sk-container-id-1 {color: black;}#sk-container-id-1 pre{padding: 0;}#sk-container-id-1 div.sk-toggleable {background-color: white;}#sk-container-id-1 label.sk-toggleable__label {cursor: pointer;display: block;width: 100%;margin-bottom: 0;padding: 0.3em;box-sizing: border-box;text-align: center;}#sk-container-id-1 label.sk-toggleable__label-arrow:before {content: \"▸\";float: left;margin-right: 0.25em;color: #696969;}#sk-container-id-1 label.sk-toggleable__label-arrow:hover:before {color: black;}#sk-container-id-1 div.sk-estimator:hover label.sk-toggleable__label-arrow:before {color: black;}#sk-container-id-1 div.sk-toggleable__content {max-height: 0;max-width: 0;overflow: hidden;text-align: left;background-color: #f0f8ff;}#sk-container-id-1 div.sk-toggleable__content pre {margin: 0.2em;color: black;border-radius: 0.25em;background-color: #f0f8ff;}#sk-container-id-1 input.sk-toggleable__control:checked~div.sk-toggleable__content {max-height: 200px;max-width: 100%;overflow: auto;}#sk-container-id-1 input.sk-toggleable__control:checked~label.sk-toggleable__label-arrow:before {content: \"▾\";}#sk-container-id-1 div.sk-estimator input.sk-toggleable__control:checked~label.sk-toggleable__label {background-color: #d4ebff;}#sk-container-id-1 div.sk-label input.sk-toggleable__control:checked~label.sk-toggleable__label {background-color: #d4ebff;}#sk-container-id-1 input.sk-hidden--visually {border: 0;clip: rect(1px 1px 1px 1px);clip: rect(1px, 1px, 1px, 1px);height: 1px;margin: -1px;overflow: hidden;padding: 0;position: absolute;width: 1px;}#sk-container-id-1 div.sk-estimator {font-family: monospace;background-color: #f0f8ff;border: 1px dotted black;border-radius: 0.25em;box-sizing: border-box;margin-bottom: 0.5em;}#sk-container-id-1 div.sk-estimator:hover {background-color: #d4ebff;}#sk-container-id-1 div.sk-parallel-item::after {content: \"\";width: 100%;border-bottom: 1px solid gray;flex-grow: 1;}#sk-container-id-1 div.sk-label:hover label.sk-toggleable__label {background-color: #d4ebff;}#sk-container-id-1 div.sk-serial::before {content: \"\";position: absolute;border-left: 1px solid gray;box-sizing: border-box;top: 0;bottom: 0;left: 50%;z-index: 0;}#sk-container-id-1 div.sk-serial {display: flex;flex-direction: column;align-items: center;background-color: white;padding-right: 0.2em;padding-left: 0.2em;position: relative;}#sk-container-id-1 div.sk-item {position: relative;z-index: 1;}#sk-container-id-1 div.sk-parallel {display: flex;align-items: stretch;justify-content: center;background-color: white;position: relative;}#sk-container-id-1 div.sk-item::before, #sk-container-id-1 div.sk-parallel-item::before {content: \"\";position: absolute;border-left: 1px solid gray;box-sizing: border-box;top: 0;bottom: 0;left: 50%;z-index: -1;}#sk-container-id-1 div.sk-parallel-item {display: flex;flex-direction: column;z-index: 1;position: relative;background-color: white;}#sk-container-id-1 div.sk-parallel-item:first-child::after {align-self: flex-end;width: 50%;}#sk-container-id-1 div.sk-parallel-item:last-child::after {align-self: flex-start;width: 50%;}#sk-container-id-1 div.sk-parallel-item:only-child::after {width: 0;}#sk-container-id-1 div.sk-dashed-wrapped {border: 1px dashed gray;margin: 0 0.4em 0.5em 0.4em;box-sizing: border-box;padding-bottom: 0.4em;background-color: white;}#sk-container-id-1 div.sk-label label {font-family: monospace;font-weight: bold;display: inline-block;line-height: 1.2em;}#sk-container-id-1 div.sk-label-container {text-align: center;}#sk-container-id-1 div.sk-container {/* jupyter's `normalize.less` sets `[hidden] { display: none; }` but bootstrap.min.css set `[hidden] { display: none !important; }` so we also need the `!important` here to be able to override the default hidden behavior on the sphinx rendered scikit-learn.org. See: https://github.com/scikit-learn/scikit-learn/issues/21755 */display: inline-block !important;position: relative;}#sk-container-id-1 div.sk-text-repr-fallback {display: none;}</style><div id=\"sk-container-id-1\" class=\"sk-top-container\"><div class=\"sk-text-repr-fallback\"><pre>DecisionTreeRegressor(max_depth=1)</pre><b>In a Jupyter environment, please rerun this cell to show the HTML representation or trust the notebook. <br />On GitHub, the HTML representation is unable to render, please try loading this page with nbviewer.org.</b></div><div class=\"sk-container\" hidden><div class=\"sk-item\"><div class=\"sk-estimator sk-toggleable\"><input class=\"sk-toggleable__control sk-hidden--visually\" id=\"sk-estimator-id-1\" type=\"checkbox\" checked><label for=\"sk-estimator-id-1\" class=\"sk-toggleable__label sk-toggleable__label-arrow\">DecisionTreeRegressor</label><div class=\"sk-toggleable__content\"><pre>DecisionTreeRegressor(max_depth=1)</pre></div></div></div></div></div>"
      ],
      "text/plain": [
       "DecisionTreeRegressor(max_depth=1)"
      ]
     },
     "execution_count": 17,
     "metadata": {},
     "output_type": "execute_result"
    }
   ],
   "source": [
    "# Initializing the Decision Tree Regressor\n",
    "dt = DecisionTreeRegressor(max_depth=1)\n",
    "# Training the Model:\n",
    "dt.fit(X_train, y_train)"
   ]
  },
  {
   "cell_type": "code",
   "execution_count": 18,
   "id": "1f6f855e",
   "metadata": {},
   "outputs": [
    {
     "name": "stdout",
     "output_type": "stream",
     "text": [
      "|--- ocean_proximity=<1h_ocean <= 0.50\n",
      "|   |--- value: [11.61]\n",
      "|--- ocean_proximity=<1h_ocean >  0.50\n",
      "|   |--- value: [12.30]\n",
      "\n"
     ]
    }
   ],
   "source": [
    "# Importing the module to export the decision tree\n",
    "from sklearn.tree import export_text\n",
    "tree_text = export_text(dt, feature_names=dv.get_feature_names_out())\n",
    "print(tree_text)"
   ]
  },
  {
   "cell_type": "code",
   "execution_count": 19,
   "id": "83b001b7",
   "metadata": {},
   "outputs": [
    {
     "data": {
      "text/plain": [
       "[Text(0.5, 0.75, 'x[5] <= 0.5\\nsquared_error = 0.322\\nsamples = 9411\\nvalue = 12.011'),\n",
       " Text(0.25, 0.25, 'squared_error = 0.23\\nsamples = 3924\\nvalue = 11.607'),\n",
       " Text(0.75, 0.25, 'squared_error = 0.186\\nsamples = 5487\\nvalue = 12.301')]"
      ]
     },
     "execution_count": 19,
     "metadata": {},
     "output_type": "execute_result"
    },
    {
     "data": {
      "image/png": "[encoded data removed]",
      "text/plain": [
       "<Figure size 640x480 with 1 Axes>"
      ]
     },
     "metadata": {},
     "output_type": "display_data"
    }
   ],
   "source": [
    "# Importing the module to plot decision trees\n",
    "from sklearn import tree\n",
    "tree.plot_tree(dt)"
   ]
  },
  {
   "cell_type": "code",
   "execution_count": 20,
   "id": "0c1590c2",
   "metadata": {},
   "outputs": [],
   "source": [
    "# Split the text into lines\n",
    "lines = tree_text.split('\\n')\n",
    "\n",
    "for line in lines:\n",
    "    # Look for the line that contains \"ocean_proximity\"for line in lines:\n",
    "    if \"ocean_proximity\" in line:\n",
    "        feature_used = line.strip().split()[1]  # Extract the feature\n",
    "        break  # Exit the loop after finding the feature"
   ]
  },
  {
   "cell_type": "code",
   "execution_count": 21,
   "id": "d25d2aaa",
   "metadata": {},
   "outputs": [
    {
     "name": "stdout",
     "output_type": "stream",
     "text": [
      "\n",
      "Answer to question 1:\n",
      "The feature used for splitting the data is:ocean_proximity=<1h_ocean\n"
     ]
    }
   ],
   "source": [
    "print(f\"\\nAnswer to question 1:\")\n",
    "print(f'The feature used for splitting the data is:{feature_used}')"
   ]
  },
  {
   "cell_type": "markdown",
   "id": "b8dfe3d5",
   "metadata": {},
   "source": [
    "### Question 2"
   ]
  },
  {
   "cell_type": "code",
   "execution_count": 22,
   "id": "7669bd2b",
   "metadata": {},
   "outputs": [],
   "source": [
    "# Imports the RandomForestRegressor and mean_squared_error from the scikit-learn library\n",
    "from sklearn.ensemble import RandomForestRegressor\n",
    "from sklearn.metrics import mean_squared_error"
   ]
  },
  {
   "cell_type": "code",
   "execution_count": 23,
   "id": "90241bee",
   "metadata": {},
   "outputs": [
    {
     "data": {
      "text/html": [
       "<style>#sk-container-id-2 {color: black;}#sk-container-id-2 pre{padding: 0;}#sk-container-id-2 div.sk-toggleable {background-color: white;}#sk-container-id-2 label.sk-toggleable__label {cursor: pointer;display: block;width: 100%;margin-bottom: 0;padding: 0.3em;box-sizing: border-box;text-align: center;}#sk-container-id-2 label.sk-toggleable__label-arrow:before {content: \"▸\";float: left;margin-right: 0.25em;color: #696969;}#sk-container-id-2 label.sk-toggleable__label-arrow:hover:before {color: black;}#sk-container-id-2 div.sk-estimator:hover label.sk-toggleable__label-arrow:before {color: black;}#sk-container-id-2 div.sk-toggleable__content {max-height: 0;max-width: 0;overflow: hidden;text-align: left;background-color: #f0f8ff;}#sk-container-id-2 div.sk-toggleable__content pre {margin: 0.2em;color: black;border-radius: 0.25em;background-color: #f0f8ff;}#sk-container-id-2 input.sk-toggleable__control:checked~div.sk-toggleable__content {max-height: 200px;max-width: 100%;overflow: auto;}#sk-container-id-2 input.sk-toggleable__control:checked~label.sk-toggleable__label-arrow:before {content: \"▾\";}#sk-container-id-2 div.sk-estimator input.sk-toggleable__control:checked~label.sk-toggleable__label {background-color: #d4ebff;}#sk-container-id-2 div.sk-label input.sk-toggleable__control:checked~label.sk-toggleable__label {background-color: #d4ebff;}#sk-container-id-2 input.sk-hidden--visually {border: 0;clip: rect(1px 1px 1px 1px);clip: rect(1px, 1px, 1px, 1px);height: 1px;margin: -1px;overflow: hidden;padding: 0;position: absolute;width: 1px;}#sk-container-id-2 div.sk-estimator {font-family: monospace;background-color: #f0f8ff;border: 1px dotted black;border-radius: 0.25em;box-sizing: border-box;margin-bottom: 0.5em;}#sk-container-id-2 div.sk-estimator:hover {background-color: #d4ebff;}#sk-container-id-2 div.sk-parallel-item::after {content: \"\";width: 100%;border-bottom: 1px solid gray;flex-grow: 1;}#sk-container-id-2 div.sk-label:hover label.sk-toggleable__label {background-color: #d4ebff;}#sk-container-id-2 div.sk-serial::before {content: \"\";position: absolute;border-left: 1px solid gray;box-sizing: border-box;top: 0;bottom: 0;left: 50%;z-index: 0;}#sk-container-id-2 div.sk-serial {display: flex;flex-direction: column;align-items: center;background-color: white;padding-right: 0.2em;padding-left: 0.2em;position: relative;}#sk-container-id-2 div.sk-item {position: relative;z-index: 1;}#sk-container-id-2 div.sk-parallel {display: flex;align-items: stretch;justify-content: center;background-color: white;position: relative;}#sk-container-id-2 div.sk-item::before, #sk-container-id-2 div.sk-parallel-item::before {content: \"\";position: absolute;border-left: 1px solid gray;box-sizing: border-box;top: 0;bottom: 0;left: 50%;z-index: -1;}#sk-container-id-2 div.sk-parallel-item {display: flex;flex-direction: column;z-index: 1;position: relative;background-color: white;}#sk-container-id-2 div.sk-parallel-item:first-child::after {align-self: flex-end;width: 50%;}#sk-container-id-2 div.sk-parallel-item:last-child::after {align-self: flex-start;width: 50%;}#sk-container-id-2 div.sk-parallel-item:only-child::after {width: 0;}#sk-container-id-2 div.sk-dashed-wrapped {border: 1px dashed gray;margin: 0 0.4em 0.5em 0.4em;box-sizing: border-box;padding-bottom: 0.4em;background-color: white;}#sk-container-id-2 div.sk-label label {font-family: monospace;font-weight: bold;display: inline-block;line-height: 1.2em;}#sk-container-id-2 div.sk-label-container {text-align: center;}#sk-container-id-2 div.sk-container {/* jupyter's `normalize.less` sets `[hidden] { display: none; }` but bootstrap.min.css set `[hidden] { display: none !important; }` so we also need the `!important` here to be able to override the default hidden behavior on the sphinx rendered scikit-learn.org. See: https://github.com/scikit-learn/scikit-learn/issues/21755 */display: inline-block !important;position: relative;}#sk-container-id-2 div.sk-text-repr-fallback {display: none;}</style><div id=\"sk-container-id-2\" class=\"sk-top-container\"><div class=\"sk-text-repr-fallback\"><pre>RandomForestRegressor(n_estimators=10, n_jobs=-1, random_state=1)</pre><b>In a Jupyter environment, please rerun this cell to show the HTML representation or trust the notebook. <br />On GitHub, the HTML representation is unable to render, please try loading this page with nbviewer.org.</b></div><div class=\"sk-container\" hidden><div class=\"sk-item\"><div class=\"sk-estimator sk-toggleable\"><input class=\"sk-toggleable__control sk-hidden--visually\" id=\"sk-estimator-id-2\" type=\"checkbox\" checked><label for=\"sk-estimator-id-2\" class=\"sk-toggleable__label sk-toggleable__label-arrow\">RandomForestRegressor</label><div class=\"sk-toggleable__content\"><pre>RandomForestRegressor(n_estimators=10, n_jobs=-1, random_state=1)</pre></div></div></div></div></div>"
      ],
      "text/plain": [
       "RandomForestRegressor(n_estimators=10, n_jobs=-1, random_state=1)"
      ]
     },
     "execution_count": 23,
     "metadata": {},
     "output_type": "execute_result"
    }
   ],
   "source": [
    "# Create and train RandomForestRegressor model with specific parameters\n",
    "rfr = RandomForestRegressor(n_estimators=10, random_state=1, n_jobs=-1)\n",
    "rfr.fit(X_train, y_train)"
   ]
  },
  {
   "cell_type": "code",
   "execution_count": 24,
   "id": "66f55c8f",
   "metadata": {},
   "outputs": [],
   "source": [
    "# Make predictions on the validation data using the trained RandomForestRegressor model\n",
    "y_pred = rfr.predict(X_val)\n",
    "\n",
    "# Calculate the Root Mean Square Error (RMSE) between the actual and predicted values\n",
    "rsme = np.sqrt(mean_squared_error(y_val, y_pred))"
   ]
  },
  {
   "cell_type": "code",
   "execution_count": 25,
   "id": "02a2eea4",
   "metadata": {},
   "outputs": [
    {
     "name": "stdout",
     "output_type": "stream",
     "text": [
      "Root Mean Square Error:\n",
      "\n",
      "0.24439322370345506\n"
     ]
    }
   ],
   "source": [
    "import math\n",
    "MSE = np.square(np.subtract(y_val,y_pred)).mean() \n",
    " \n",
    "RMSE = math.sqrt(MSE)\n",
    "print(\"Root Mean Square Error:\\n\")\n",
    "print(RMSE)"
   ]
  },
  {
   "cell_type": "code",
   "execution_count": 26,
   "id": "5b789829",
   "metadata": {},
   "outputs": [
    {
     "name": "stdout",
     "output_type": "stream",
     "text": [
      "\n",
      "Answer to question 2:\n",
      "RMSE of this model when validated is:0.244\n"
     ]
    }
   ],
   "source": [
    "print(f\"\\nAnswer to question 2:\")\n",
    "print(f'RMSE of this model when validated is:{rsme:.3f}')"
   ]
  },
  {
   "cell_type": "markdown",
   "id": "96010f65",
   "metadata": {},
   "source": [
    "### Question 3"
   ]
  },
  {
   "cell_type": "code",
   "execution_count": 28,
   "id": "7984c9d2",
   "metadata": {},
   "outputs": [],
   "source": [
    "# Imports the tqdm library \n",
    "from tqdm.auto import tqdm"
   ]
  },
  {
   "cell_type": "code",
   "execution_count": 29,
   "id": "4ea632e2",
   "metadata": {},
   "outputs": [
    {
     "data": {
      "application/vnd.jupyter.widget-view+json": {
       "model_id": "c1fa1d7caf27468eacce48bc1e1c18bd",
       "version_major": 2,
       "version_minor": 0
      },
      "text/plain": [
       "  0%|          | 0/20 [00:00<?, ?it/s]"
      ]
     },
     "metadata": {},
     "output_type": "display_data"
    }
   ],
   "source": [
    "# Initialize an empty list to store scores\n",
    "scores = []\n",
    "\n",
    "# Define a range of values for n_estimators\n",
    "n_est_values = list(range(10, 201, 10))\n",
    "\n",
    "# Loop through different n_estimators values\n",
    "for n in tqdm(n_est_values):\n",
    "    # Create and train RandomForestRegressor model with the specified number of estimators\n",
    "    rfr = RandomForestRegressor(n_estimators=n, random_state=1, n_jobs=-1)\n",
    "    rfr.fit(X_train, y_train)\n",
    "\n",
    "    # Make predictions on the validation data\n",
    "    y_pred = rfr.predict(X_val)\n",
    "        \n",
    "    # Calculate the Root Mean Square Error (RMSE) between predictions and actual values\n",
    "    score = np.sqrt(mean_squared_error(y_val, y_pred))\n",
    "    \n",
    "    # Append a tuple of n_estimators and the calculated RMSE to the scores list\n",
    "    scores.append((n, score))\n"
   ]
  },
  {
   "cell_type": "code",
   "execution_count": 30,
   "id": "22af9bc7",
   "metadata": {},
   "outputs": [
    {
     "data": {
      "image/png": "[encoded data removed]",
      "text/plain": [
       "<Figure size 640x480 with 1 Axes>"
      ]
     },
     "metadata": {},
     "output_type": "display_data"
    }
   ],
   "source": [
    "# Create a DataFrame to store scores with columns 'n_est' and 'rmse'\n",
    "columns = [\"n_est\", \"rmse\"]\n",
    "df_scores = pd.DataFrame(scores, columns=columns)\n",
    "\n",
    "# Generate a line plot of 'n_est' against 'rmse'\n",
    "plt.plot(df_scores.n_est, df_scores.rmse)\n",
    "plt.ylim(0.233, 0.246)\n",
    "plt.show()"
   ]
  },
  {
   "cell_type": "code",
   "execution_count": 31,
   "id": "4b4adb93",
   "metadata": {},
   "outputs": [
    {
     "name": "stdout",
     "output_type": "stream",
     "text": [
      "        n_est                        RMSE\n",
      "0          10   (10, 0.24439322370345506)\n",
      "1          20   (20, 0.23874285056530062)\n",
      "2          30    (30, 0.2371566638279877)\n",
      "3          40    (40, 0.2350470906205495)\n",
      "4          50   (50, 0.23511660039766477)\n",
      "5          60   (60, 0.23469770435436976)\n",
      "6          70   (70, 0.23452641989979106)\n",
      "7          80    (80, 0.2346496890258071)\n",
      "8          90   (90, 0.23457610662527956)\n",
      "9         100   (100, 0.2344108214215694)\n",
      "10        110  (110, 0.23438347875223398)\n",
      "11        120  (120, 0.23416279236787463)\n",
      "12        130  (130, 0.23401373837057926)\n",
      "13        140  (140, 0.23377520828942366)\n",
      "14        150  (150, 0.23360507756696328)\n",
      "15        160  (160, 0.23353023587127117)\n",
      "16        170  (170, 0.23349855602511513)\n",
      "17        180  (180, 0.23368449352358087)\n",
      "18        190  (190, 0.23391668255941678)\n",
      "19        200  (200, 0.23379087983979704)\n",
      "20  Best RMSE                    0.233499\n",
      "\n"
     ]
    }
   ],
   "source": [
    "# Create a list of results in the form of tuples (n_estimators, RMSE)\n",
    "results = [(n_est, rmse) for n_est, rmse in zip(n_est_values, scores)]\n",
    "\n",
    "# Create a DataFrame with the results\n",
    "results_df = pd.DataFrame(results, columns=['n_est', 'RMSE'])\n",
    "\n",
    "# Find the value of n_estimators at which RMSE stops improving\n",
    "best_rmse = min(scores, key=lambda x: x[1])\n",
    "best_rmse_index = scores.index(best_rmse)\n",
    "n_est_with_best_rmse = n_est_values[best_rmse_index]\n",
    "\n",
    "# Add a row with the best RMSE to the DataFrame\n",
    "best_rmse_row = pd.DataFrame({'n_est': ['Best RMSE'], 'RMSE': [best_rmse[1]]})\n",
    "results_df = pd.concat([results_df, best_rmse_row], ignore_index=True)\n",
    "\n",
    "print(results_df)\n",
    "print()"
   ]
  },
  {
   "cell_type": "code",
   "execution_count": 32,
   "id": "5c413462",
   "metadata": {},
   "outputs": [
    {
     "name": "stdout",
     "output_type": "stream",
     "text": [
      "\n",
      "Answer to question 3:\n",
      "RMSE stops improving after n_estimators exceed:170\n"
     ]
    }
   ],
   "source": [
    "print(f\"\\nAnswer to question 3:\")\n",
    "print(f'RMSE stops improving after n_estimators exceed:{n_est_with_best_rmse}')"
   ]
  },
  {
   "cell_type": "markdown",
   "id": "5affe70d",
   "metadata": {},
   "source": [
    "### Question 4"
   ]
  },
  {
   "cell_type": "code",
   "execution_count": 33,
   "id": "96fcb7ef",
   "metadata": {
    "scrolled": false
   },
   "outputs": [
    {
     "data": {
      "application/vnd.jupyter.widget-view+json": {
       "model_id": "833991cbd041469fa123cbc7d7386b29",
       "version_major": 2,
       "version_minor": 0
      },
      "text/plain": [
       "max_depth=10:   0%|          | 0/20 [00:00<?, ?it/s]"
      ]
     },
     "metadata": {},
     "output_type": "display_data"
    },
    {
     "data": {
      "application/vnd.jupyter.widget-view+json": {
       "model_id": "df4ead649d484c44ad7e85a0861fbb88",
       "version_major": 2,
       "version_minor": 0
      },
      "text/plain": [
       "max_depth=15:   0%|          | 0/20 [00:00<?, ?it/s]"
      ]
     },
     "metadata": {},
     "output_type": "display_data"
    },
    {
     "data": {
      "application/vnd.jupyter.widget-view+json": {
       "model_id": "38491eaf362a49bb8901f2e32984cd3d",
       "version_major": 2,
       "version_minor": 0
      },
      "text/plain": [
       "max_depth=20:   0%|          | 0/20 [00:00<?, ?it/s]"
      ]
     },
     "metadata": {},
     "output_type": "display_data"
    },
    {
     "data": {
      "application/vnd.jupyter.widget-view+json": {
       "model_id": "7154f4e94c854eb1af6e6adf4d878d95",
       "version_major": 2,
       "version_minor": 0
      },
      "text/plain": [
       "max_depth=25:   0%|          | 0/20 [00:00<?, ?it/s]"
      ]
     },
     "metadata": {},
     "output_type": "display_data"
    },
    {
     "data": {
      "image/png": "[encoded data removed]",
      "text/plain": [
       "<Figure size 1000x600 with 1 Axes>"
      ]
     },
     "metadata": {},
     "output_type": "display_data"
    }
   ],
   "source": [
    "# List of max_depth values to test\n",
    "max_depth_values = [10, 15, 20, 25]\n",
    "\n",
    "# Range of n_estimators values to test\n",
    "n_est_values = list(range(10, 201, 10))\n",
    "\n",
    "# Initialize a list to store mean RMSE results\n",
    "mean_rmse_values = []\n",
    "\n",
    "# Iterate over different max_depth values\n",
    "for max_depth in max_depth_values:\n",
    "    rmse_values = []\n",
    "    \n",
    "    # Iterate over different n_estimators values\n",
    "    for n in tqdm(n_est_values, desc=f\"max_depth={max_depth}\"):\n",
    "        rmse_scores = [] \n",
    "        \n",
    "        # Create and train a RandomForestRegressor model\n",
    "        rfr = RandomForestRegressor(n_estimators=n, max_depth=max_depth, random_state=1, n_jobs=-1)\n",
    "        rfr.fit(X_train, y_train)\n",
    "        \n",
    "        # Make predictions on the validation set\n",
    "        y_pred = rfr.predict(X_val)\n",
    "        \n",
    "        # Calculate RMSE for the predictions\n",
    "        rmse = np.sqrt(mean_squared_error(y_val, y_pred))\n",
    "        rmse_scores.append(rmse)\n",
    "        \n",
    "        # Calculate the mean RMSE for the given max_depth and n_estimators combination\n",
    "        mean_rmse = np.mean(rmse_scores)\n",
    "        rmse_values.append(mean_rmse)\n",
    "    \n",
    "    # Add the RMSE results to the list of mean RMSE values\n",
    "    mean_rmse_values.append(rmse_values)\n",
    "\n",
    "# Find the best max_depth based on mean RMSE\n",
    "best_max_depth = min(mean_rmse_values, key=lambda x: x[2])[0]\n",
    "\n",
    "# Generate a plot\n",
    "plt.figure(figsize=(10, 6))\n",
    "for i, max_depth in enumerate(max_depth_values):\n",
    "    plt.plot(n_est_values, mean_rmse_values[i], label=f'max_depth={max_depth}')\n",
    "plt.xlabel('n_estimators')\n",
    "plt.ylabel('Mean RMSE')\n",
    "plt.legend()\n",
    "plt.title('Mean RMSE for Different max_depth and n_estimators')\n",
    "plt.grid(True)\n",
    "plt.show()"
   ]
  },
  {
   "cell_type": "code",
   "execution_count": 34,
   "id": "de753207",
   "metadata": {},
   "outputs": [
    {
     "name": "stdout",
     "output_type": "stream",
     "text": [
      "\n",
      "Answer to question 4:\n",
      "Best max_depth based on mean RMSE:0.24\n"
     ]
    }
   ],
   "source": [
    "print(f\"\\nAnswer to question 4:\")\n",
    "print(f'Best max_depth based on mean RMSE:{best_max_depth:.2f}')"
   ]
  },
  {
   "cell_type": "markdown",
   "id": "1dd0c728",
   "metadata": {},
   "source": [
    "### Question 5"
   ]
  },
  {
   "cell_type": "code",
   "execution_count": 35,
   "id": "3842d226",
   "metadata": {},
   "outputs": [
    {
     "data": {
      "text/html": [
       "<style>#sk-container-id-3 {color: black;}#sk-container-id-3 pre{padding: 0;}#sk-container-id-3 div.sk-toggleable {background-color: white;}#sk-container-id-3 label.sk-toggleable__label {cursor: pointer;display: block;width: 100%;margin-bottom: 0;padding: 0.3em;box-sizing: border-box;text-align: center;}#sk-container-id-3 label.sk-toggleable__label-arrow:before {content: \"▸\";float: left;margin-right: 0.25em;color: #696969;}#sk-container-id-3 label.sk-toggleable__label-arrow:hover:before {color: black;}#sk-container-id-3 div.sk-estimator:hover label.sk-toggleable__label-arrow:before {color: black;}#sk-container-id-3 div.sk-toggleable__content {max-height: 0;max-width: 0;overflow: hidden;text-align: left;background-color: #f0f8ff;}#sk-container-id-3 div.sk-toggleable__content pre {margin: 0.2em;color: black;border-radius: 0.25em;background-color: #f0f8ff;}#sk-container-id-3 input.sk-toggleable__control:checked~div.sk-toggleable__content {max-height: 200px;max-width: 100%;overflow: auto;}#sk-container-id-3 input.sk-toggleable__control:checked~label.sk-toggleable__label-arrow:before {content: \"▾\";}#sk-container-id-3 div.sk-estimator input.sk-toggleable__control:checked~label.sk-toggleable__label {background-color: #d4ebff;}#sk-container-id-3 div.sk-label input.sk-toggleable__control:checked~label.sk-toggleable__label {background-color: #d4ebff;}#sk-container-id-3 input.sk-hidden--visually {border: 0;clip: rect(1px 1px 1px 1px);clip: rect(1px, 1px, 1px, 1px);height: 1px;margin: -1px;overflow: hidden;padding: 0;position: absolute;width: 1px;}#sk-container-id-3 div.sk-estimator {font-family: monospace;background-color: #f0f8ff;border: 1px dotted black;border-radius: 0.25em;box-sizing: border-box;margin-bottom: 0.5em;}#sk-container-id-3 div.sk-estimator:hover {background-color: #d4ebff;}#sk-container-id-3 div.sk-parallel-item::after {content: \"\";width: 100%;border-bottom: 1px solid gray;flex-grow: 1;}#sk-container-id-3 div.sk-label:hover label.sk-toggleable__label {background-color: #d4ebff;}#sk-container-id-3 div.sk-serial::before {content: \"\";position: absolute;border-left: 1px solid gray;box-sizing: border-box;top: 0;bottom: 0;left: 50%;z-index: 0;}#sk-container-id-3 div.sk-serial {display: flex;flex-direction: column;align-items: center;background-color: white;padding-right: 0.2em;padding-left: 0.2em;position: relative;}#sk-container-id-3 div.sk-item {position: relative;z-index: 1;}#sk-container-id-3 div.sk-parallel {display: flex;align-items: stretch;justify-content: center;background-color: white;position: relative;}#sk-container-id-3 div.sk-item::before, #sk-container-id-3 div.sk-parallel-item::before {content: \"\";position: absolute;border-left: 1px solid gray;box-sizing: border-box;top: 0;bottom: 0;left: 50%;z-index: -1;}#sk-container-id-3 div.sk-parallel-item {display: flex;flex-direction: column;z-index: 1;position: relative;background-color: white;}#sk-container-id-3 div.sk-parallel-item:first-child::after {align-self: flex-end;width: 50%;}#sk-container-id-3 div.sk-parallel-item:last-child::after {align-self: flex-start;width: 50%;}#sk-container-id-3 div.sk-parallel-item:only-child::after {width: 0;}#sk-container-id-3 div.sk-dashed-wrapped {border: 1px dashed gray;margin: 0 0.4em 0.5em 0.4em;box-sizing: border-box;padding-bottom: 0.4em;background-color: white;}#sk-container-id-3 div.sk-label label {font-family: monospace;font-weight: bold;display: inline-block;line-height: 1.2em;}#sk-container-id-3 div.sk-label-container {text-align: center;}#sk-container-id-3 div.sk-container {/* jupyter's `normalize.less` sets `[hidden] { display: none; }` but bootstrap.min.css set `[hidden] { display: none !important; }` so we also need the `!important` here to be able to override the default hidden behavior on the sphinx rendered scikit-learn.org. See: https://github.com/scikit-learn/scikit-learn/issues/21755 */display: inline-block !important;position: relative;}#sk-container-id-3 div.sk-text-repr-fallback {display: none;}</style><div id=\"sk-container-id-3\" class=\"sk-top-container\"><div class=\"sk-text-repr-fallback\"><pre>RandomForestRegressor(max_depth=20, n_estimators=10, n_jobs=-1, random_state=1)</pre><b>In a Jupyter environment, please rerun this cell to show the HTML representation or trust the notebook. <br />On GitHub, the HTML representation is unable to render, please try loading this page with nbviewer.org.</b></div><div class=\"sk-container\" hidden><div class=\"sk-item\"><div class=\"sk-estimator sk-toggleable\"><input class=\"sk-toggleable__control sk-hidden--visually\" id=\"sk-estimator-id-3\" type=\"checkbox\" checked><label for=\"sk-estimator-id-3\" class=\"sk-toggleable__label sk-toggleable__label-arrow\">RandomForestRegressor</label><div class=\"sk-toggleable__content\"><pre>RandomForestRegressor(max_depth=20, n_estimators=10, n_jobs=-1, random_state=1)</pre></div></div></div></div></div>"
      ],
      "text/plain": [
       "RandomForestRegressor(max_depth=20, n_estimators=10, n_jobs=-1, random_state=1)"
      ]
     },
     "execution_count": 35,
     "metadata": {},
     "output_type": "execute_result"
    }
   ],
   "source": [
    "# Creating a RandomForestRegressor model with specified parameters\n",
    "rfr = RandomForestRegressor(n_estimators=10, max_depth=20, random_state=1, n_jobs=-1)\n",
    "\n",
    "# Training the RandomForestRegressor model with training data\n",
    "rfr.fit(X_train, y_train)"
   ]
  },
  {
   "cell_type": "code",
   "execution_count": 36,
   "id": "42b83911",
   "metadata": {},
   "outputs": [
    {
     "name": "stdout",
     "output_type": "stream",
     "text": [
      "Feature Importances:\n"
     ]
    },
    {
     "data": {
      "text/html": [
       "<div>\n",
       "<style scoped>\n",
       "    .dataframe tbody tr th:only-of-type {\n",
       "        vertical-align: middle;\n",
       "    }\n",
       "\n",
       "    .dataframe tbody tr th {\n",
       "        vertical-align: top;\n",
       "    }\n",
       "\n",
       "    .dataframe thead th {\n",
       "        text-align: right;\n",
       "    }\n",
       "</style>\n",
       "<table border=\"1\" class=\"dataframe\">\n",
       "  <thead>\n",
       "    <tr style=\"text-align: right;\">\n",
       "      <th></th>\n",
       "      <th>0</th>\n",
       "    </tr>\n",
       "  </thead>\n",
       "  <tbody>\n",
       "    <tr>\n",
       "      <th>households</th>\n",
       "      <td>0.014982</td>\n",
       "    </tr>\n",
       "    <tr>\n",
       "      <th>housing_median_age</th>\n",
       "      <td>0.030277</td>\n",
       "    </tr>\n",
       "    <tr>\n",
       "      <th>latitude</th>\n",
       "      <td>0.102203</td>\n",
       "    </tr>\n",
       "    <tr>\n",
       "      <th>longitude</th>\n",
       "      <td>0.086423</td>\n",
       "    </tr>\n",
       "    <tr>\n",
       "      <th>median_income</th>\n",
       "      <td>0.335013</td>\n",
       "    </tr>\n",
       "    <tr>\n",
       "      <th>ocean_proximity=&lt;1h_ocean</th>\n",
       "      <td>0.218820</td>\n",
       "    </tr>\n",
       "    <tr>\n",
       "      <th>ocean_proximity=inland</th>\n",
       "      <td>0.147460</td>\n",
       "    </tr>\n",
       "    <tr>\n",
       "      <th>population</th>\n",
       "      <td>0.027881</td>\n",
       "    </tr>\n",
       "    <tr>\n",
       "      <th>total_bedrooms</th>\n",
       "      <td>0.015313</td>\n",
       "    </tr>\n",
       "    <tr>\n",
       "      <th>total_rooms</th>\n",
       "      <td>0.021627</td>\n",
       "    </tr>\n",
       "  </tbody>\n",
       "</table>\n",
       "</div>"
      ],
      "text/plain": [
       "                                  0\n",
       "households                 0.014982\n",
       "housing_median_age         0.030277\n",
       "latitude                   0.102203\n",
       "longitude                  0.086423\n",
       "median_income              0.335013\n",
       "ocean_proximity=<1h_ocean  0.218820\n",
       "ocean_proximity=inland     0.147460\n",
       "population                 0.027881\n",
       "total_bedrooms             0.015313\n",
       "total_rooms                0.021627"
      ]
     },
     "execution_count": 36,
     "metadata": {},
     "output_type": "execute_result"
    }
   ],
   "source": [
    "# Get feature importances from a RandomForestRegressor model\n",
    "importances = rfr.feature_importances_\n",
    "\n",
    "# Get the feature names\n",
    "features = dv.get_feature_names_out()\n",
    "\n",
    "# Create a DataFrame to store feature importances\n",
    "feature_importance = pd.DataFrame(importances, index=features)\n",
    "\n",
    "print(\"Feature Importances:\")\n",
    "feature_importance"
   ]
  },
  {
   "cell_type": "code",
   "execution_count": 37,
   "id": "afb1a386",
   "metadata": {},
   "outputs": [],
   "source": [
    "# Sort the DataFrame with feature importances in descending order\n",
    "sorted_feature_importance = feature_importance.sort_values(by=0, ascending=False)\n",
    "\n",
    "# Get the most important feature (first row in the DataFrame after sorting)\n",
    "most_important_feature = sorted_feature_importance.index[0]\n",
    "\n",
    "# Get the value of the most important feature\n",
    "most_important_value = sorted_feature_importance.iloc[0, 0]"
   ]
  },
  {
   "cell_type": "code",
   "execution_count": 38,
   "id": "d6fa65b5",
   "metadata": {},
   "outputs": [
    {
     "data": {
      "text/plain": [
       "<Axes: >"
      ]
     },
     "execution_count": 38,
     "metadata": {},
     "output_type": "execute_result"
    },
    {
     "data": {
      "image/png": "[encoded data removed]",
      "text/plain": [
       "<Figure size 640x480 with 1 Axes>"
      ]
     },
     "metadata": {},
     "output_type": "display_data"
    }
   ],
   "source": [
    "# Create a horizontal bar plot to visualize feature importances\n",
    "sorted_feature_importance.plot.barh()"
   ]
  },
  {
   "cell_type": "code",
   "execution_count": 39,
   "id": "815faf67",
   "metadata": {},
   "outputs": [
    {
     "name": "stdout",
     "output_type": "stream",
     "text": [
      "\n",
      "Answer to question 5:\n",
      "Most Important Feature is: median_income | 0.33501\n"
     ]
    }
   ],
   "source": [
    "print(f\"\\nAnswer to question 5:\")\n",
    "print(f'Most Important Feature is: {most_important_feature} | {most_important_value:.5f}')"
   ]
  },
  {
   "cell_type": "markdown",
   "id": "df04ccde",
   "metadata": {},
   "source": [
    "### Question 6"
   ]
  },
  {
   "cell_type": "code",
   "execution_count": 40,
   "id": "8e2f359c",
   "metadata": {},
   "outputs": [],
   "source": [
    "# Import the XGBoost library\n",
    "import xgboost as xgb"
   ]
  },
  {
   "cell_type": "code",
   "execution_count": 41,
   "id": "ab748c1a",
   "metadata": {},
   "outputs": [],
   "source": [
    "# Creating XGBoost DMatrix objects for training and validation data\n",
    "d_train = xgb.DMatrix(X_train, label=y_train)\n",
    "d_val = xgb.DMatrix(X_val, label=y_val)"
   ]
  },
  {
   "cell_type": "code",
   "execution_count": 42,
   "id": "41a2ab27",
   "metadata": {},
   "outputs": [],
   "source": [
    "# Creating a watchlist for monitoring training progress\n",
    "watchlist = [(d_train, 'train'), (d_val, 'val')]"
   ]
  },
  {
   "cell_type": "code",
   "execution_count": 43,
   "id": "77b4dd5f",
   "metadata": {},
   "outputs": [],
   "source": [
    "# This function takes as input the output from an XGBoost training process, \n",
    "# splits it into lines, and extracts information about the number of iterations, \n",
    "# training RMSE (Root Mean Squared Error), and validation RMSE for each iteration. \n",
    "# It then stores these results in a pandas DataFrame with appropriate column \n",
    "# names and returns the DataFrame for further analysis or visualization.\n",
    "\n",
    "def parse_xgb_output(output):\n",
    "    results = []\n",
    "    \n",
    "    # Split the output by newline characters\n",
    "    for line in output.stdout.strip().split(\"\\n\"):\n",
    "        it_line, train_line, val_line = line.split(\"\\t\")\n",
    "        \n",
    "        # Extract and format the iteration number, training RMSE, and validation RMSE\n",
    "        it = int(it_line.strip(\"[]\"))\n",
    "        train = float(train_line.split(\":\")[1])\n",
    "        val = float(val_line.split(\":\")[1])\n",
    "\n",
    "        # Append the results as a tuple to the 'results' list\n",
    "        results.append((it, train, val))\n",
    "    \n",
    "    # Define column names for the DataFrame\n",
    "    columns = [\"num_iter\", \"train_rmse\", \"val_rsme\"]\n",
    "    \n",
    "    # Create a DataFrame using the parsed results and column names\n",
    "    df_results = pd.DataFrame(results, columns=columns)\n",
    "    return df_results"
   ]
  },
  {
   "cell_type": "code",
   "execution_count": 44,
   "id": "95150e22",
   "metadata": {},
   "outputs": [],
   "source": [
    "# Create an empty dictionary\n",
    "scores_eta = {}"
   ]
  },
  {
   "cell_type": "code",
   "execution_count": 47,
   "id": "9eeb4b24",
   "metadata": {},
   "outputs": [],
   "source": [
    "%%capture output\n",
    "\n",
    "# Define XGBoost parameters\n",
    "xgb_params = {\n",
    "    \"eta\": 0.3, #0.3, 0.1\n",
    "    \"max_depth\": 6,\n",
    "    \"min_child_weight\": 1,\n",
    "    \"objective\": \"reg:squarederror\",\n",
    "    \"nthread\": 8,\n",
    "    \"seed\": 1,\n",
    "    \"verbosity\": 1,\n",
    "}\n",
    "\n",
    "# Train an XGBoost model with the specified parameters\n",
    "model = xgb.train(xgb_params, d_train, evals=watchlist, num_boost_round=100)"
   ]
  },
  {
   "cell_type": "code",
   "execution_count": 48,
   "id": "e5d7b30b",
   "metadata": {},
   "outputs": [
    {
     "data": {
      "text/plain": [
       "'eta = 0.3'"
      ]
     },
     "execution_count": 48,
     "metadata": {},
     "output_type": "execute_result"
    }
   ],
   "source": [
    "# Create a key_text_eta string with the value of 'eta' from xgb_params\n",
    "key_text_eta = f\"eta = {xgb_params['eta']}\"\n",
    "\n",
    "# Store the parsed XGBoost output in the scores_eta dictionary with key_text_eta as the key\n",
    "scores_eta[key_text_eta] = parse_xgb_output(output)\n",
    "\n",
    "key_text_eta"
   ]
  },
  {
   "cell_type": "code",
   "execution_count": 49,
   "id": "0e9f28ce",
   "metadata": {},
   "outputs": [
    {
     "data": {
      "text/plain": [
       "dict_keys(['eta = 0.1', 'eta = 0.3'])"
      ]
     },
     "execution_count": 49,
     "metadata": {},
     "output_type": "execute_result"
    }
   ],
   "source": [
    "scores_eta.keys()"
   ]
  },
  {
   "cell_type": "code",
   "execution_count": 50,
   "id": "ad77710b",
   "metadata": {},
   "outputs": [],
   "source": [
    "# Initialize a variable for the best RMSE as positive infinity at the beginning\n",
    "best_rmse = float('inf')  \n",
    "\n",
    "# Initialize a variable for the corresponding best eta as None\n",
    "best_eta = None\n",
    "\n",
    "# Loop through the items in the 'scores_eta' dictionary\n",
    "for key_eta, df_score in scores_eta.items():\n",
    "    # Find the minimum RMSE in the 'val_rsme' column of the DataFrame\n",
    "    min_rmse = df_score['val_rsme'].min()\n",
    "    \n",
    "    # Check if the minimum RMSE is less than the current best RMSE\n",
    "    if min_rmse < best_rmse:\n",
    "        best_rmse = min_rmse  # Update the best RMSE\n",
    "        best_eta = key_eta  # Update the corresponding best eta"
   ]
  },
  {
   "cell_type": "code",
   "execution_count": 51,
   "id": "6ec91505",
   "metadata": {},
   "outputs": [
    {
     "data": {
      "image/png": "[encoded data removed]",
      "text/plain": [
       "<Figure size 640x480 with 1 Axes>"
      ]
     },
     "metadata": {},
     "output_type": "display_data"
    }
   ],
   "source": [
    "for key_eta, df_score in scores_eta.items():\n",
    "    # Create a line plot for RMSE values against the number of iterations\n",
    "    plt.plot(df_score.num_iter, df_score.val_rsme, label=key_eta)\n",
    "\n",
    "plt.ylabel(\"RMSE\")\n",
    "plt.xlim((50, 100))\n",
    "plt.ylim((0.22, 0.27))\n",
    "plt.grid(True)\n",
    "plt.show()"
   ]
  },
  {
   "cell_type": "code",
   "execution_count": 52,
   "id": "e0feb4db",
   "metadata": {},
   "outputs": [
    {
     "name": "stdout",
     "output_type": "stream",
     "text": [
      "\n",
      "Answer to question 6:\n",
      "The best RMSE result on the validation dataset 0.22861 is led by eta: eta = 0.3\n"
     ]
    }
   ],
   "source": [
    "print(f\"\\nAnswer to question 6:\")\n",
    "print(f'The best RMSE result on the validation dataset {best_rmse} is led by eta: {best_eta}')"
   ]
  }
 ],
 "metadata": {
  "kernelspec": {
   "display_name": "Python 3 (ipykernel)",
   "language": "python",
   "name": "python3"
  },
  "language_info": {
   "codemirror_mode": {
    "name": "ipython",
    "version": 3
   },
   "file_extension": ".py",
   "mimetype": "text/x-python",
   "name": "python",
   "nbconvert_exporter": "python",
   "pygments_lexer": "ipython3",
   "version": "3.11.5"
  }
 },
 "nbformat": 4,
 "nbformat_minor": 5
}

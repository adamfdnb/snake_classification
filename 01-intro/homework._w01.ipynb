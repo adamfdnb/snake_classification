{
 "cells": [
  {
   "cell_type": "markdown",
   "id": "2f6bc059",
   "metadata": {},
   "source": [
    "## ML Zoomcamp 2023 - Homework #1"
   ]
  },
  {
   "cell_type": "code",
   "execution_count": 2,
   "id": "6837d22b",
   "metadata": {},
   "outputs": [],
   "source": [
    "import pandas as pd\n",
    "import numpy as np"
   ]
  },
  {
   "cell_type": "markdown",
   "id": "f7a3a6e5",
   "metadata": {},
   "source": [
    "#### Question 1: \n",
    "Version of Pandas?"
   ]
  },
  {
   "cell_type": "code",
   "execution_count": 3,
   "id": "f02f65c5",
   "metadata": {},
   "outputs": [
    {
     "data": {
      "text/plain": [
       "'2.1.0'"
      ]
     },
     "execution_count": 3,
     "metadata": {},
     "output_type": "execute_result"
    }
   ],
   "source": [
    "pd.__version__"
   ]
  },
  {
   "cell_type": "markdown",
   "id": "32e9e39f",
   "metadata": {},
   "source": [
    "#### Data preparation"
   ]
  },
  {
   "cell_type": "code",
   "execution_count": 4,
   "id": "bf4ff15c",
   "metadata": {},
   "outputs": [
    {
     "name": "stdout",
     "output_type": "stream",
     "text": [
      "--2023-09-17 00:16:49--  https://raw.githubusercontent.com/alexeygrigorev/datasets/master/housing.csv\n",
      "Translacja raw.githubusercontent.com (raw.githubusercontent.com)... 2606:50c0:8001::154, 2606:50c0:8000::154, 2606:50c0:8002::154, ...\n",
      "Łączenie się z raw.githubusercontent.com (raw.githubusercontent.com)|2606:50c0:8001::154|:443... połączono.\n",
      "Żądanie HTTP wysłano, oczekiwanie na odpowiedź... 200 OK\n",
      "Długość: 1423529 (1,4M) [text/plain]\n",
      "Zapis do: ‘housing.csv.9’\n",
      "\n",
      "housing.csv.9       100%[===================>]   1,36M  5,69MB/s    w 0,2s     \n",
      "\n",
      "2023-09-17 00:16:49 (5,69 MB/s) - zapisano ‘housing.csv.9’ [1423529/1423529]\n",
      "\n"
     ]
    }
   ],
   "source": [
    "!wget https://raw.githubusercontent.com/alexeygrigorev/datasets/master/housing.csv"
   ]
  },
  {
   "cell_type": "code",
   "execution_count": 5,
   "id": "f30b7226",
   "metadata": {},
   "outputs": [],
   "source": [
    "dataset = pd.read_csv(\"housing.csv\")"
   ]
  },
  {
   "cell_type": "code",
   "execution_count": 6,
   "id": "bf698ab1",
   "metadata": {},
   "outputs": [],
   "source": [
    "df = dataset.copy()"
   ]
  },
  {
   "cell_type": "code",
   "execution_count": 7,
   "id": "6bdb6562",
   "metadata": {},
   "outputs": [
    {
     "data": {
      "text/plain": [
       "Index(['longitude', 'latitude', 'housing_median_age', 'total_rooms',\n",
       "       'total_bedrooms', 'population', 'households', 'median_income',\n",
       "       'median_house_value', 'ocean_proximity'],\n",
       "      dtype='object')"
      ]
     },
     "execution_count": 7,
     "metadata": {},
     "output_type": "execute_result"
    }
   ],
   "source": [
    "df.columns"
   ]
  },
  {
   "cell_type": "code",
   "execution_count": 8,
   "id": "a6f02f9b",
   "metadata": {},
   "outputs": [
    {
     "data": {
      "text/plain": [
       "array(['NEAR BAY', '<1H OCEAN', 'INLAND', 'NEAR OCEAN', 'ISLAND'],\n",
       "      dtype=object)"
      ]
     },
     "execution_count": 8,
     "metadata": {},
     "output_type": "execute_result"
    }
   ],
   "source": [
    "df.ocean_proximity.unique()"
   ]
  },
  {
   "cell_type": "markdown",
   "id": "8f59e14b",
   "metadata": {},
   "source": [
    "#### Question 2\n",
    "Number of columns in the dataset?"
   ]
  },
  {
   "cell_type": "code",
   "execution_count": 9,
   "id": "2b28439e",
   "metadata": {},
   "outputs": [
    {
     "name": "stdout",
     "output_type": "stream",
     "text": [
      "Answer Q2: The data set has 10 columns\n"
     ]
    }
   ],
   "source": [
    "df_q1 = df.shape[1]\n",
    "print(f'Answer Q2: The data set has {df_q1} columns')"
   ]
  },
  {
   "cell_type": "markdown",
   "id": "c2bb47ea",
   "metadata": {},
   "source": [
    "#### Question 3\n",
    "\n",
    "Q: Which columns in the dataset have missing values?\n",
    "\n",
    "    total_rooms\n",
    "    total_bedrooms\n",
    "    both of the above\n",
    "    no empty columns in the dataset\n"
   ]
  },
  {
   "cell_type": "code",
   "execution_count": 10,
   "id": "efb823fc",
   "metadata": {},
   "outputs": [
    {
     "name": "stdout",
     "output_type": "stream",
     "text": [
      "Answer Q3: In the dataset, empty values have a column total_bedrooms\n"
     ]
    }
   ],
   "source": [
    "df_q3 = df.columns[df.isna().any()].tolist()\n",
    "\n",
    "for column in df_q3:\n",
    "    df_q3 = str(column)  \n",
    "    df_q3 = df_q3.strip(\"[]\")  \n",
    "    print(f'Answer Q3: In the dataset, empty values have a column {df_q3}')"
   ]
  },
  {
   "cell_type": "markdown",
   "id": "2dd23f24",
   "metadata": {},
   "source": [
    "#### Question 4\n",
    "Q: How many unique values does the ocean_proximity column have?\n",
    "\n",
    "* 3\n",
    "* 5\n",
    "* 7\n",
    "* 9\n"
   ]
  },
  {
   "cell_type": "code",
   "execution_count": 11,
   "id": "96639acc",
   "metadata": {},
   "outputs": [
    {
     "name": "stdout",
     "output_type": "stream",
     "text": [
      "Answer Q4: ocean_proximity column have 5 unique values\n"
     ]
    }
   ],
   "source": [
    "df_q4 = df.ocean_proximity.nunique()\n",
    "print(f'Answer Q4: ocean_proximity column have {df_q4} unique values')"
   ]
  },
  {
   "cell_type": "markdown",
   "id": "c43c9274",
   "metadata": {},
   "source": [
    "#### Question 5\n",
    "\n",
    "What's the average value of the median_house_value for the houses located near the bay?\n",
    "\n",
    "    49433\n",
    "    124805\n",
    "    259212\n",
    "    380440\n"
   ]
  },
  {
   "cell_type": "code",
   "execution_count": 12,
   "id": "02dcd8a1",
   "metadata": {},
   "outputs": [
    {
     "name": "stdout",
     "output_type": "stream",
     "text": [
      "Answer Q5: The average value of median_house_value for houses near the bay is:259212.311790$\n"
     ]
    }
   ],
   "source": [
    "df_q5 = df[df['ocean_proximity'] == 'NEAR BAY']['median_house_value'].mean()\n",
    "print(f'Answer Q5: The average value of median_house_value for houses near the bay is:{df_q5:.6f}$')\n"
   ]
  },
  {
   "cell_type": "markdown",
   "id": "cbdd6123",
   "metadata": {},
   "source": [
    "#### Question 6\n",
    "\n",
    "    1. Calculate the average of total_bedrooms column in the dataset.\n",
    "    2. Use the fillna method to fill the missing values in total_bedrooms with the mean value from the previous step.\n",
    "    3. Now, calculate the average of total_bedrooms again.\n",
    "    4. Has it changed?\n",
    "\n",
    "Has it changed?\n",
    "\n",
    "    Hint: take into account only 3 digits after the decimal point.\n",
    "\n",
    "    Yes\n",
    "    No\n"
   ]
  },
  {
   "cell_type": "code",
   "execution_count": 13,
   "id": "81b630ca",
   "metadata": {
    "scrolled": true
   },
   "outputs": [
    {
     "name": "stdout",
     "output_type": "stream",
     "text": [
      "537.8705525375618\n",
      "537.8705525375617\n",
      "\n",
      "Answer Q6: The difference is:0.0000000000001\n",
      "For three digits after the decimal point there is no change\n"
     ]
    }
   ],
   "source": [
    "# Calculate the average of total_bedrooms column in the dataset.\n",
    "df_q6 = df['total_bedrooms'].mean()\n",
    "print(df_q6)\n",
    "\n",
    "# Use the fillna method to fill the missing values in total_bedrooms with the mean value from the previous step.\n",
    "df[\"total_bedrooms\"].fillna(df['total_bedrooms'].mean(), inplace=True)\n",
    "\n",
    "#  calculate the average of total_bedrooms again.\n",
    "df_q6_1 = df['total_bedrooms'].mean()\n",
    "print(df_q6_1)\n",
    "\n",
    "# Calculate difference\n",
    "x = df_q6 - df_q6_1\n",
    "\n",
    "print(f'\\nAnswer Q6: The difference is:{x:.13f}')\n",
    "print(f'For three digits after the decimal point there is no change')"
   ]
  },
  {
   "cell_type": "markdown",
   "id": "027e476d",
   "metadata": {},
   "source": [
    "#### Question 7\n",
    "\n",
    "    1. Select all the options located on islands.\n",
    "    2. Select only columns housing_median_age, total_rooms, total_bedrooms.\n",
    "    3. Get the underlying NumPy array. Let's call it X.\n",
    "    4. Compute matrix-matrix multiplication between the transpose of X and X. To get the transpose, use X.T. Let's call the result XTX.\n",
    "    5. Compute the inverse of XTX.\n",
    "    6. Create an array y with values [950, 1300, 800, 1000, 1300].\n",
    "    7. Multiply the inverse of XTX with the transpose of X, and then multiply the result by y. Call the result w.\n",
    "    8. What's the value of the last element of w?\n",
    "\n",
    "    Note: You just implemented linear regression. We'll talk about it in the next lesson.\n",
    "\n",
    "    -1.4812\n",
    "    0.001\n",
    "    5.6992\n",
    "    23.1233\n"
   ]
  },
  {
   "cell_type": "code",
   "execution_count": 14,
   "id": "23c59413",
   "metadata": {},
   "outputs": [],
   "source": [
    "# Select all the options located on islands.\n",
    "# Select only columns housing_median_age, total_rooms, total_bedrooms.\n",
    "\n",
    "data = df.loc[\n",
    "    df[\"ocean_proximity\"] == \"ISLAND\", [\"housing_median_age\", \"total_rooms\", 'total_bedrooms']\n",
    "] "
   ]
  },
  {
   "cell_type": "code",
   "execution_count": 15,
   "id": "e0899daf",
   "metadata": {},
   "outputs": [
    {
     "data": {
      "text/plain": [
       "(5, 3)"
      ]
     },
     "execution_count": 15,
     "metadata": {},
     "output_type": "execute_result"
    }
   ],
   "source": [
    "data.shape "
   ]
  },
  {
   "cell_type": "code",
   "execution_count": 16,
   "id": "5a72742a",
   "metadata": {},
   "outputs": [],
   "source": [
    "# Get the underlying NumPy array. Let's call it X.\n",
    "X = np.array(data) "
   ]
  },
  {
   "cell_type": "code",
   "execution_count": 17,
   "id": "dd80aee4",
   "metadata": {},
   "outputs": [],
   "source": [
    "# Compute matrix-matrix multiplication between the transpose of X and X. \n",
    "#To get the transpose, use X.T. Let's call the result XTX\n",
    "XTX = np.dot(X.T,X) "
   ]
  },
  {
   "cell_type": "code",
   "execution_count": 18,
   "id": "eff21859",
   "metadata": {},
   "outputs": [
    {
     "data": {
      "text/plain": [
       "array([[ 9.19403586e-04, -3.66412216e-05,  5.43072261e-05],\n",
       "       [-3.66412216e-05,  8.23303633e-06, -2.77534485e-05],\n",
       "       [ 5.43072261e-05, -2.77534485e-05,  1.00891325e-04]])"
      ]
     },
     "execution_count": 18,
     "metadata": {},
     "output_type": "execute_result"
    }
   ],
   "source": [
    "# Compute the inverse of XTX\n",
    "np.linalg.inv(XTX)"
   ]
  },
  {
   "cell_type": "code",
   "execution_count": 19,
   "id": "fa6247aa",
   "metadata": {},
   "outputs": [],
   "source": [
    "# Create an array y with values [950, 1300, 800, 1000, 1300]\n",
    "y = np.array([950, 1300, 800, 1000, 1300]) # task_7.5"
   ]
  },
  {
   "cell_type": "code",
   "execution_count": 21,
   "id": "1f0f864e",
   "metadata": {},
   "outputs": [
    {
     "name": "stdout",
     "output_type": "stream",
     "text": [
      "Answer Q7: The last element of w is: 5.6992\n"
     ]
    }
   ],
   "source": [
    "# Multiply the inverse of XTX with the transpose of X, and then multiply the result by y. \n",
    "# Call the result w\n",
    "w = np.dot(np.dot(np.linalg.inv(XTX), X.T), y)\n",
    "print(f'Answer Q7: The last element of w is: {w[-1]:.4f}')"
   ]
  }
 ],
 "metadata": {
  "kernelspec": {
   "display_name": "Python 3 (ipykernel)",
   "language": "python",
   "name": "python3"
  },
  "language_info": {
   "codemirror_mode": {
    "name": "ipython",
    "version": 3
   },
   "file_extension": ".py",
   "mimetype": "text/x-python",
   "name": "python",
   "nbconvert_exporter": "python",
   "pygments_lexer": "ipython3",
   "version": "3.11.5"
  }
 },
 "nbformat": 4,
 "nbformat_minor": 5
}
